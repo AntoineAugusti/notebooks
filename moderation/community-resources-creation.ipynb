{
 "cells": [
  {
   "cell_type": "markdown",
   "metadata": {},
   "source": [
    "# CommunityResource creation monitoring\n",
    "\n",
    "- uses the public API\n",
    "- uses a file to store the latest CommunityResource we've seen in between cron runs\n",
    "- notifies on Slack (webhook)"
   ]
  },
  {
   "cell_type": "code",
   "execution_count": null,
   "metadata": {},
   "outputs": [],
   "source": [
    "import requests, os\n",
    "from datetime import datetime\n",
    "from pathlib import Path"
   ]
  },
  {
   "cell_type": "code",
   "execution_count": null,
   "metadata": {},
   "outputs": [],
   "source": [
    "current_path = Path(os.getenv('WORKING_DIR')) if os.getenv('WORKING_DIR') else Path().absolute()\n",
    "current_path"
   ]
  },
  {
   "cell_type": "code",
   "execution_count": null,
   "metadata": {},
   "outputs": [],
   "source": [
    "# load config\n",
    "import configparser\n",
    "config = configparser.ConfigParser()\n",
    "config.read(current_path / 'config.ini')\n",
    "assert 'secrets' in config.sections()\n",
    "\n",
    "wh_url = config.get('secrets', 'slack_webhook_url')"
   ]
  },
  {
   "cell_type": "markdown",
   "metadata": {},
   "source": [
    "**Use a file to store the last community resource we've seen so far.**"
   ]
  },
  {
   "cell_type": "code",
   "execution_count": null,
   "metadata": {},
   "outputs": [],
   "source": [
    "last_run = None\n",
    "path = Path(current_path / 'last-community-resource-run.txt')\n",
    "if path.exists():\n",
    "    with path.open() as f:\n",
    "        last_run = datetime.fromisoformat(f.read().strip())\n",
    "last_run"
   ]
  },
  {
   "cell_type": "markdown",
   "metadata": {},
   "source": [
    "**send a message to Slack API**"
   ]
  },
  {
   "cell_type": "code",
   "execution_count": null,
   "metadata": {},
   "outputs": [],
   "source": [
    "def send_message(msg):\n",
    "    print(msg)\n",
    "    r = requests.post(wh_url, json={'text': msg})\n",
    "    assert r.text == 'ok'"
   ]
  },
  {
   "cell_type": "code",
   "execution_count": null,
   "metadata": {},
   "outputs": [],
   "source": [
    "def notify_cr(cr):\n",
    "    dataset_link = f\"<{cr['dataset']['uri']}|{cr['dataset']['title']}>\" if cr['dataset'] else '*None*'\n",
    "    send_message(f\":panda_face: new _CommunityResource_ on {dataset_link}: {cr['url']}\")"
   ]
  },
  {
   "cell_type": "code",
   "execution_count": null,
   "metadata": {},
   "outputs": [],
   "source": [
    "cr_url = 'https://www.data.gouv.fr/api/1/datasets/community_resources/?sort=-created_at'\n",
    "r = requests.get(cr_url)\n",
    "new_last_found = None\n",
    "for cr in r.json()['data']:\n",
    "    cr_date = datetime.fromisoformat(cr['created_at'])\n",
    "    if last_run and cr_date < last_run:\n",
    "        break\n",
    "    notify_cr(cr)"
   ]
  },
  {
   "cell_type": "code",
   "execution_count": null,
   "metadata": {},
   "outputs": [],
   "source": [
    "with path.open('w') as f:\n",
    "    f.write(datetime.now().isoformat())"
   ]
  },
  {
   "cell_type": "code",
   "execution_count": null,
   "metadata": {},
   "outputs": [],
   "source": []
  }
 ],
 "metadata": {
  "kernelspec": {
   "display_name": "Python 3",
   "language": "python",
   "name": "python3"
  },
  "language_info": {
   "codemirror_mode": {
    "name": "ipython",
    "version": 3
   },
   "file_extension": ".py",
   "mimetype": "text/x-python",
   "name": "python",
   "nbconvert_exporter": "python",
   "pygments_lexer": "ipython3",
   "version": "3.7.6"
  }
 },
 "nbformat": 4,
 "nbformat_minor": 2
}
