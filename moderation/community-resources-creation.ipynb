{
 "cells": [
  {
   "cell_type": "code",
   "execution_count": null,
   "metadata": {},
   "outputs": [],
   "source": [
    "import requests, os\n",
    "from pathlib import Path"
   ]
  },
  {
   "cell_type": "code",
   "execution_count": null,
   "metadata": {},
   "outputs": [],
   "source": [
    "current_path = Path(os.getenv('WORKING_DIR')) if os.getenv('WORKING_DIR') else Path().absolute()\n",
    "current_path"
   ]
  },
  {
   "cell_type": "code",
   "execution_count": null,
   "metadata": {},
   "outputs": [],
   "source": [
    "# load config\n",
    "import configparser\n",
    "config = configparser.ConfigParser()\n",
    "config.read(current_path / 'config.ini')\n",
    "assert 'secrets' in config.sections()\n",
    "\n",
    "wh_url = config.get('secrets', 'slack_webhook_url')"
   ]
  },
  {
   "cell_type": "code",
   "execution_count": null,
   "metadata": {},
   "outputs": [],
   "source": [
    "last_found = None\n",
    "path = Path(current_path / 'last-community-resource-found.txt')\n",
    "if path.exists():\n",
    "    with path.open() as f:\n",
    "        last_found = f.read()\n",
    "last_found"
   ]
  },
  {
   "cell_type": "code",
   "execution_count": null,
   "metadata": {},
   "outputs": [],
   "source": [
    "def send_message(msg):\n",
    "    print(msg)\n",
    "    r = requests.post(wh_url, json={'text': msg})\n",
    "    assert r.text == 'ok'"
   ]
  },
  {
   "cell_type": "code",
   "execution_count": null,
   "metadata": {},
   "outputs": [],
   "source": [
    "def notify_cr(cr):\n",
    "    dataset_link = f\"<{cr['dataset']['uri']}|{cr['dataset']['title']}>\" if cr['dataset'] else '*None*'\n",
    "    send_message(f\":panda_face: new _CommunityResource_ on {dataset_link}: {cr['url']}\")"
   ]
  },
  {
   "cell_type": "code",
   "execution_count": null,
   "metadata": {},
   "outputs": [],
   "source": [
    "cr_url = 'https://www.data.gouv.fr/api/1/datasets/community_resources/?sort=-created_at'\n",
    "r = requests.get(cr_url)\n",
    "new_last_found = None\n",
    "for cr in r.json()['data']:\n",
    "    if last_found and last_found == cr['id']:\n",
    "        break\n",
    "    if not new_last_found:\n",
    "        new_last_found = cr['id']\n",
    "    notify_cr(cr)"
   ]
  },
  {
   "cell_type": "code",
   "execution_count": null,
   "metadata": {},
   "outputs": [],
   "source": [
    "if new_last_found:\n",
    "    with path.open('w') as f:\n",
    "        f.write(new_last_found)\n",
    "new_last_found"
   ]
  },
  {
   "cell_type": "code",
   "execution_count": null,
   "metadata": {},
   "outputs": [],
   "source": []
  }
 ],
 "metadata": {
  "kernelspec": {
   "display_name": "Python 3",
   "language": "python",
   "name": "python3"
  },
  "language_info": {
   "codemirror_mode": {
    "name": "ipython",
    "version": 3
   },
   "file_extension": ".py",
   "mimetype": "text/x-python",
   "name": "python",
   "nbconvert_exporter": "python",
   "pygments_lexer": "ipython3",
   "version": "3.7.6"
  }
 },
 "nbformat": 4,
 "nbformat_minor": 2
}
