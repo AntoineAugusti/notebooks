{
 "cells": [
  {
   "cell_type": "markdown",
   "metadata": {},
   "source": [
    "# DECP decp-json\n",
    "\n",
    "update our datasets about \"commande publique\" on data.gouv.fr w/ data from Colin's decp-json"
   ]
  },
  {
   "cell_type": "code",
   "execution_count": null,
   "metadata": {},
   "outputs": [],
   "source": [
    "import requests\n",
    "from dateutil.parser import parse\n",
    "from datetime import datetime"
   ]
  },
  {
   "cell_type": "code",
   "execution_count": null,
   "metadata": {},
   "outputs": [],
   "source": [
    "PROD = False\n",
    "BASE_URL = 'https://next.data.gouv.fr' if not PROD else 'https://data.gouv.fr'"
   ]
  },
  {
   "cell_type": "markdown",
   "metadata": {},
   "source": [
    "## pes marché"
   ]
  },
  {
   "cell_type": "code",
   "execution_count": null,
   "metadata": {},
   "outputs": [],
   "source": [
    "with open('datagouvfr-token.txt', 'r') as f:\n",
    "    TOKEN = f.read()\n",
    "DATASET_ID = '5bd0b6fd8b4c413d0801dc57'\n",
    "API_URL = '%s/api/1/datasets/%s' % (BASE_URL, DATASET_ID)"
   ]
  },
  {
   "cell_type": "code",
   "execution_count": null,
   "metadata": {},
   "outputs": [],
   "source": [
    "# create or update resource on data.gouv.fr\n",
    "\n",
    "r = requests.get(API_URL)\n",
    "resources = r.json()['resources']\n",
    "\n",
    "json_r = [r for r in resources if r['format'] == 'json']\n",
    "json_r = json_r[0] if json_r else None\n",
    "if not json_r:\n",
    "    R_API_URL = '%s/upload/' % (API_URL)\n",
    "else:\n",
    "    R_API_URL = '%s/resources/%s/' % (API_URL, json_r['id'])\n",
    "    \n",
    "last_modified_dest = parse(json_r['last_modified']) if json_r else None\n",
    "last_modified_dest"
   ]
  },
  {
   "cell_type": "code",
   "execution_count": null,
   "metadata": {},
   "outputs": [],
   "source": [
    "# get data from colin\n",
    "\n",
    "SOURCE_URL = 'https://sireneld.io/data/decp/data.gouv.fr_pes.json'\n",
    "\n",
    "r = requests.head(SOURCE_URL)\n",
    "# cast to naive datetime\n",
    "last_modified_source = parse(r.headers['Last-Modified']).replace(tzinfo=None)\n",
    "\n",
    "if not json_r or (last_modified_dest < last_modified_source):\n",
    "    source = requests.get(SOURCE_URL)\n",
    "    files = {'file': ('decp-pes-%s.json' % last_modified_source.strftime('%Y-%m-%d'), source.content)}\n",
    "    r = requests.post(R_API_URL, files=files, headers={'x-api-key': TOKEN})\n",
    "    print('Updated PES json resource.')\n",
    "else:\n",
    "    print('Nothing to do.')"
   ]
  },
  {
   "cell_type": "code",
   "execution_count": null,
   "metadata": {},
   "outputs": [],
   "source": []
  },
  {
   "cell_type": "code",
   "execution_count": null,
   "metadata": {},
   "outputs": [],
   "source": []
  }
 ],
 "metadata": {
  "kernelspec": {
   "display_name": "Python 3",
   "language": "python",
   "name": "python3"
  },
  "language_info": {
   "codemirror_mode": {
    "name": "ipython",
    "version": 3
   },
   "file_extension": ".py",
   "mimetype": "text/x-python",
   "name": "python",
   "nbconvert_exporter": "python",
   "pygments_lexer": "ipython3",
   "version": "3.6.3"
  }
 },
 "nbformat": 4,
 "nbformat_minor": 2
}
