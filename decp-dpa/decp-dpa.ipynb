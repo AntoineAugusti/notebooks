{
 "cells": [
  {
   "cell_type": "markdown",
   "metadata": {},
   "source": [
    "# Déclaration de profils d'acheteur - DECP"
   ]
  },
  {
   "cell_type": "code",
   "execution_count": null,
   "metadata": {},
   "outputs": [],
   "source": [
    "import requests\n",
    "import agate\n",
    "\n",
    "from pathlib import Path\n",
    "import cchardet as chardet"
   ]
  },
  {
   "cell_type": "code",
   "execution_count": null,
   "metadata": {},
   "outputs": [],
   "source": [
    "# get the list of datasets tagged DECP on data.gouv.fr\n",
    "\n",
    "url = 'https://www.data.gouv.fr/api/1/datasets/?tag=decp&page_size=1000'\n",
    "r = requests.get(url)\n",
    "datasets = r.json()['data']\n",
    "\n",
    "len(datasets)"
   ]
  },
  {
   "cell_type": "code",
   "execution_count": null,
   "metadata": {},
   "outputs": [],
   "source": [
    "# Download all tabular files in data/ directory, as best as we can\n",
    "\n",
    "downloaded = []\n",
    "for d in datasets:\n",
    "    if not d['organization'] and not d['owner']:\n",
    "        print('======= no owner or orga !!! ==========', d['slug'])\n",
    "        continue\n",
    "    orga = d['organization']['slug'] if d['organization'] else d['owner']['slug']\n",
    "    slug = d['slug']\n",
    "    for r in d['resources']:\n",
    "        rurl = r['url']\n",
    "        rid = r['id']\n",
    "        # ODS style NB: won't work more than once for CKAN\n",
    "        if 'format=csv' in rurl:\n",
    "            filename = rurl.split('/')[-3] + '.csv'\n",
    "        else:\n",
    "            filename = rurl.split('/')[-1]\n",
    "        if filename in downloaded:\n",
    "            print('x existing file %s' % rurl)\n",
    "            continue\n",
    "        ext = filename.split('.')[-1]\n",
    "        if ext not in ['csv']:\n",
    "            print('x ignored file %s' % rurl)\n",
    "            continue\n",
    "        r = requests.get(rurl, allow_redirects=True)\n",
    "        p = Path('data/%s' % slug)\n",
    "        p.mkdir(exist_ok=True, parents=True)\n",
    "        written_filename = '%s.%s' % (rid, ext) \n",
    "        with open('%s/%s' % (p, written_filename), 'wb') as f:\n",
    "            f.write(r.content)\n",
    "            downloaded.append(filename)\n",
    "            print('- downloaded file [%s] %s' % (filename, rurl))\n",
    "print('Done')"
   ]
  },
  {
   "cell_type": "code",
   "execution_count": null,
   "metadata": {},
   "outputs": [],
   "source": [
    "def parse_csv(file_path):\n",
    "    # deactivate type testing, this puts too much constraint on parsing\n",
    "    # especially for lat/lon columns with commas\n",
    "    tester = agate.TypeTester(types=(agate.Text, ), limit=0)\n",
    "    with file_path.open('rb') as f:\n",
    "        encoding = chardet.detect(f.read()).get('encoding')\n",
    "    try:\n",
    "        # /!\\ force delimiter\n",
    "        # TODO maybe open with ; and if only one column, try with ',' or delim\n",
    "        # we're working with small files here which can explain sniffing is not so good\n",
    "        table = agate.Table.from_csv(file_path, encoding=encoding, sniff_limit=None, column_types=tester, delimiter=';')\n",
    "    except Exception as e:\n",
    "        print('[x] CSV parse error for %s (%s)' % (file_path, e))\n",
    "    else:\n",
    "        return table"
   ]
  },
  {
   "cell_type": "code",
   "execution_count": null,
   "metadata": {},
   "outputs": [],
   "source": [
    "columns = ['siretAcheteur', 'urlProfilAcheteur', 'coordonnnées']\n",
    "columns_low = [x.lower() for x in columns]\n",
    "\n",
    "columns_mapping = [\n",
    "    ('siretAcheteur', 'siret'), \n",
    "    ('urlProfilAcheteur', 'url'), \n",
    "    ('coordonnnées', 'coordonnnees'), \n",
    "]"
   ]
  },
  {
   "cell_type": "code",
   "execution_count": null,
   "metadata": {},
   "outputs": [],
   "source": [
    "# parse CSV files: analyze difference between standard schema and real data\n",
    "# infer a mapping of column names variation to match a maximum of data later\n",
    "\n",
    "# /!\\ this is only an analysis step that helped build `columns_mapping` above\n",
    "# you do not need to run this when doing a consolidation\n",
    "\n",
    "p = Path('data')\n",
    "for child in [x for x in p.iterdir() if x.is_dir()]:\n",
    "    csvs = list(child.glob('*.csv'))\n",
    "    for csv in csvs:\n",
    "        table = parse_csv(csv)\n",
    "        if table:\n",
    "            cols = [x.lower() for x in table.column_names]\n",
    "            missing_pivot = []\n",
    "            # TODO also match `siret`\n",
    "            for pivot in ['siretacheteur']:\n",
    "                if pivot not in cols:\n",
    "                    missing_pivot.append(pivot)\n",
    "            if missing_pivot:\n",
    "                print('Skipping %s for missing pivot %s, cols were %s' % (csv, missing_pivot, cols))\n",
    "                break\n",
    "            diff = list(set(cols) - set(columns_low))\n",
    "            if diff:\n",
    "                print('DIFF for %s: %s' % (csv, diff))\n",
    "print('Done.')"
   ]
  },
  {
   "cell_type": "code",
   "execution_count": null,
   "metadata": {},
   "outputs": [],
   "source": [
    "# use columns_mapping to build a database of unique stations based on (id_station, id_pdc, max(date_maj))\n",
    "\n",
    "profils = []\n",
    "\n",
    "def find_by_pivot(row, lines):\n",
    "    pass\n",
    "\n",
    "def ifind_in_row_by_col(col, row):\n",
    "    for key in row.keys():\n",
    "        if col.lower() == key.lower():\n",
    "            return row[key]\n",
    "\n",
    "p = Path('data')\n",
    "\n",
    "# TODO assign a weight based on number of lines in CSV file\n",
    "# if duplicate, keep the one from the file w/ highest weight\n",
    "\n",
    "for child in [x for x in p.iterdir() if x.is_dir()]:\n",
    "    csvs = list(child.glob('*.csv'))\n",
    "    for csv in csvs:\n",
    "        table = parse_csv(csv)\n",
    "        if table:\n",
    "            table_cols = [x.lower() for x in table.column_names]\n",
    "            missing_pivot = []\n",
    "            # TODO also match `siret`\n",
    "            for pivot in ['siretacheteur']:\n",
    "                if pivot not in table_cols:\n",
    "                    missing_pivot.append(pivot)\n",
    "            if missing_pivot:\n",
    "                break\n",
    "            for row in table.rows:\n",
    "                profil = {}\n",
    "                for col in columns_mapping:\n",
    "                    for c in col:\n",
    "                        if c.lower() in table_cols:\n",
    "                            # use the standard name for column\n",
    "                            profil[col[0]] = ifind_in_row_by_col(c, row)\n",
    "                            break\n",
    "                # remove empty lines\n",
    "                if not profil.get('siretAcheteur'):\n",
    "                    continue\n",
    "                upatt = 'https://www.data.gouv.fr/fr/datasets/%s/#resource-%s'\n",
    "                profil['source'] = upatt % (csv.parents[0].stem, csv.stem)\n",
    "                # normalize siretAcheteur\n",
    "                profil['siretAcheteur'] = profil['siretAcheteur'].strip().replace(' ', '')\n",
    "                profils.append(profil)\n",
    "                \n",
    "len(profils)"
   ]
  },
  {
   "cell_type": "code",
   "execution_count": null,
   "metadata": {},
   "outputs": [],
   "source": []
  },
  {
   "cell_type": "code",
   "execution_count": null,
   "metadata": {},
   "outputs": [],
   "source": [
    "# enjoy the results!\n",
    "\n",
    "import csv\n",
    "\n",
    "with open('decp-dpa.csv', 'w') as csvfile:\n",
    "    writer = csv.DictWriter(csvfile, fieldnames=columns + ['source'], delimiter=';')\n",
    "    writer.writeheader()\n",
    "    for b in profils:\n",
    "        writer.writerow(b)"
   ]
  },
  {
   "cell_type": "code",
   "execution_count": null,
   "metadata": {},
   "outputs": [],
   "source": [
    "import pandas as pd\n",
    "\n",
    "df = pd.read_csv('decp-dpa.csv', sep=';')\n",
    "siret = pd.DataFrame(df.groupby('siretAcheteur').size())\n",
    "siret[siret[0] > 1][0].sum()"
   ]
  },
  {
   "cell_type": "markdown",
   "metadata": {},
   "source": [
    "## debug / test"
   ]
  },
  {
   "cell_type": "code",
   "execution_count": null,
   "metadata": {},
   "outputs": [],
   "source": [
    "source = 'data/declaration-du-profil-acheteur/e99030a3-b258-42a3-9b20-13f0632bb473.csv'\n",
    "table = agate.Table.from_csv(source, encoding=\"latin-1\", delimiter=';')\n",
    "table.column_names"
   ]
  },
  {
   "cell_type": "code",
   "execution_count": null,
   "metadata": {},
   "outputs": [],
   "source": []
  }
 ],
 "metadata": {
  "kernelspec": {
   "display_name": "Python 3",
   "language": "python",
   "name": "python3"
  },
  "language_info": {
   "codemirror_mode": {
    "name": "ipython",
    "version": 3
   },
   "file_extension": ".py",
   "mimetype": "text/x-python",
   "name": "python",
   "nbconvert_exporter": "python",
   "pygments_lexer": "ipython3",
   "version": "3.6.3"
  }
 },
 "nbformat": 4,
 "nbformat_minor": 2
}
