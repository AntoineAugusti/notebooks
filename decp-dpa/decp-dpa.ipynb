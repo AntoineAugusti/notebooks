{
 "cells": [
  {
   "cell_type": "markdown",
   "metadata": {},
   "source": [
    "# Déclaration de profils d'acheteur - DECP"
   ]
  },
  {
   "cell_type": "code",
   "execution_count": 88,
   "metadata": {},
   "outputs": [],
   "source": [
    "import requests\n",
    "import agate\n",
    "\n",
    "from pathlib import Path\n",
    "import cchardet as chardet"
   ]
  },
  {
   "cell_type": "code",
   "execution_count": 89,
   "metadata": {},
   "outputs": [
    {
     "data": {
      "text/plain": [
       "43"
      ]
     },
     "execution_count": 89,
     "metadata": {},
     "output_type": "execute_result"
    }
   ],
   "source": [
    "# get the list of datasets tagged DECP on data.gouv.fr\n",
    "\n",
    "url = 'https://www.data.gouv.fr/api/1/datasets/?tag=decp&page_size=1000'\n",
    "r = requests.get(url)\n",
    "datasets = r.json()['data']\n",
    "\n",
    "len(datasets)"
   ]
  },
  {
   "cell_type": "code",
   "execution_count": 97,
   "metadata": {},
   "outputs": [
    {
     "name": "stdout",
     "output_type": "stream",
     "text": [
      "x ignored file https://static.data.gouv.fr/resources/publication-profil-acheteur/20180802-103706/DECP_CHERENG.xlsx\n",
      "- downloaded file [decp.csv] https://static.data.gouv.fr/resources/donnees-essentielles-de-la-commande-publique-de-la-ca-et-cias-de-bar-le-duc/20180906-182615/decp.csv\n",
      "x existing file https://static.data.gouv.fr/resources/declaration-du-profil-acheteur-1/20181009-121608/decp.csv\n",
      "- downloaded file [decp-declaration-du-profil-dacheteur.csv] https://static.data.gouv.fr/resources/declaration-du-profil-dacheteur/20181001-100049/decp-declaration-du-profil-dacheteur.csv\n",
      "- downloaded file [decpddfip92.csv] https://static.data.gouv.fr/resources/declaration-de-profil-dachet/20181016-163335/decpddfip92.csv\n",
      "- downloaded file [declaration-profil-acheteur-centre-pompidou-metz.csv] https://static.data.gouv.fr/resources/centre-pompidou-metz/20181002-105229/declaration-profil-acheteur-centre-pompidou-metz.csv\n",
      "======= no owner or orga !!! ========== profil-dacheteur-de-la-ville-de-caudry\n",
      "x ignored file https://static.data.gouv.fr/resources/annuaire-des-profils-acheteurs-des-adherents-de-territoires-numeriques-bourgogne-franche-comte/20180831-135821/2018-07-11-recensement-des-profils-dacheteur-ternum-bfc.xlsx\n",
      "- downloaded file [2018_07_11_Recensement_des_profils_dacheteur_TerNum_BFC.csv] https://www.data.gouv.fr/s/resources/annuaire-des-profils-acheteurs-des-adherents-de-territoires-numeriques-bourgogne-franche-comte/20180719-111604/2018_07_11_Recensement_des_profils_dacheteur_TerNum_BFC.csv\n",
      "- downloaded file [decp.publication-du-profil-dacheteur.csv] https://static.data.gouv.fr/resources/declaration-profil-acheteur-2/20181018-103947/decp.publication-du-profil-dacheteur.csv\n",
      "- downloaded file [cagc.csv] https://static.data.gouv.fr/resources/communaute-dagglomeration-de-grand-chatellerault/20181106-101623/cagc.csv\n",
      "- downloaded file [decp.declaration-du-profil-dacheteur.csv] https://static.data.gouv.fr/resources/declaration-du-profil-dacheteur-de-la-communaute-de-communes-du-grand-chambord/20181107-144224/decp.declaration-du-profil-dacheteur.csv\n",
      "- downloaded file [listes-des-marches-publics-du-casvp-a-compter-de-2018.csv] https://opendata.paris.fr/explore/dataset/listes-des-marches-publics-du-casvp-a-compter-de-2018/download?format=csv&timezone=Europe/Berlin&use_labels_for_header=true\n",
      "x ignored file https://opendata.paris.fr/explore/dataset/listes-des-marches-publics-du-casvp-a-compter-de-2018/download?format=json&timezone=Europe/Berlin&use_labels_for_header=true\n",
      "- downloaded file [MP_exp_05_2018_CR_BFC_utf8.csv] https://www.data.gouv.fr/s/resources/donnees-des-marches-publics-experimentation-opendatalocale-de-la-region-bfc/20180504-222800/MP_exp_05_2018_CR_BFC_utf8.csv\n",
      "- downloaded file [declaration-cad2018.csv] https://static.data.gouv.fr/resources/decp-declaration-profil-acheteur/20180926-091429/declaration-cad2018.csv\n",
      "x existing file https://static.data.gouv.fr/resources/decp-publication-profil-acheteur/20181002-112652/decp.csv\n",
      "- downloaded file [decp-20002719100028-2018-10-08-01.csv] https://static.data.gouv.fr/resources/decp-epmsa/20181008-145034/decp-20002719100028-2018-10-08-01.csv\n",
      "x existing file https://static.data.gouv.fr/resources/structure-du-fichier-de-declaration-de-profil-dacheteur/20181002-211316/decp.csv\n",
      "- downloaded file [decp-declaration-profil-acheteur.csv] https://static.data.gouv.fr/resources/ecole-superieure-dart-et-de-design-marseille-mediterranee-1/20181108-103802/decp-declaration-profil-acheteur.csv\n",
      "x existing file https://static.data.gouv.fr/resources/decp-declaration-profil-acheteur-1/20181002-141723/decp.csv\n",
      "x existing file https://static.data.gouv.fr/resources/decp-1/20181004-153309/decp.csv\n",
      "x existing file https://static.data.gouv.fr/resources/commune-de-fontenoy-le-chateau/20181011-092258/decp.csv\n",
      "- downloaded file [classeur1.csv] https://static.data.gouv.fr/resources/mairie-de-coti-chiavari/20181018-154635/classeur1.csv\n",
      "- downloaded file [declaration-profil-dacheteur-ville-de-caudry.csv] https://static.data.gouv.fr/resources/declaration-du-profil-dacheteur-2/20181025-095011/declaration-profil-dacheteur-ville-de-caudry.csv\n",
      "- downloaded file [klekoon-2018-10-25.csv] https://static.data.gouv.fr/resources/declaration-profil-dacheteur-de-la-plateforme-klekoon/20181025-153529/klekoon-2018-10-25.csv\n",
      "- downloaded file [klekoon-2018-10-08.csv] https://static.data.gouv.fr/resources/declaration-profil-dacheteur-de-la-plateforme-klekoon/20181008-110552/klekoon-2018-10-08.csv\n",
      "- downloaded file [klekoon.csv] https://static.data.gouv.fr/resources/declaration-profil-dacheteur/20181003-173639/klekoon.csv\n",
      "- downloaded file [decp-pa-smscothg.csv] https://static.data.gouv.fr/resources/declaration-du-profil-dacheteur-3/20181029-113420/decp-pa-smscothg.csv\n",
      "- downloaded file [declaration-profil-acheteur06112018.csv] https://static.data.gouv.fr/resources/declaration-des-profils-dacheteur/20181106-101504/declaration-profil-acheteur06112018.csv\n",
      "- downloaded file [url-profilsacheteurs-aws-06112018.csv] https://static.data.gouv.fr/resources/declaration-des-profil-dacheteur-avenue-web-systemes/20181106-174138/url-profilsacheteurs-aws-06112018.csv\n",
      "- downloaded file [decp-tag-regie-sddea.csv] https://static.data.gouv.fr/resources/profil-acheteur-1/20180928-160330/decp-tag-regie-sddea.csv\n",
      "- downloaded file [decp-tag-rh.csv] https://static.data.gouv.fr/resources/profil-acheteur/20180928-125658/decp-tag-rh.csv\n",
      "- downloaded file [decp-tag-sddea.csv] https://static.data.gouv.fr/resources/declaration-du-profil-acheteur/20180928-162607/decp-tag-sddea.csv\n",
      "- downloaded file [decp-saint-maurice-de-beynost.csv] https://static.data.gouv.fr/resources/publication-profil-dacheteur/20180924-124025/decp-saint-maurice-de-beynost.csv\n",
      "- downloaded file [decp-fichier-declaration-profil-data-gouv.csv] https://static.data.gouv.fr/resources/declaration-d-un-acheteur/20180921-093316/decp-fichier-declaration-profil-data-gouv.csv\n",
      "- downloaded file [profil-acheteur.csv] https://static.data.gouv.fr/resources/declaration-profil-acheteur-3/20181018-171439/profil-acheteur.csv\n",
      "- downloaded file [decp-.csv] https://static.data.gouv.fr/resources/decp-declaration-de-profil-dacheteur/20181025-011024/decp-.csv\n",
      "- downloaded file [dcep.csv] https://static.data.gouv.fr/resources/decp-3/20181105-160509/dcep.csv\n",
      "- downloaded file [ville.csv] https://static.data.gouv.fr/resources/donnees-essentielles-des-marches-publics-ville-de-chatellerault/20181106-101246/ville.csv\n",
      "x existing file https://static.data.gouv.fr/resources/donnees-essentielles-de-la-commande-publique-de-la-ville-de-bar-le-duc/20180906-182257/decp.csv\n",
      "x existing file https://static.data.gouv.fr/resources/decp/20181001-151126/decp.csv\n",
      "- downloaded file [decp-commune-de-venelles.csv] https://static.data.gouv.fr/resources/decp-declaration-profil-acheteur-2/20181003-151907/decp-commune-de-venelles.csv\n",
      "- downloaded file [url-profilsacheteurs-synapse.csv] https://static.data.gouv.fr/resources/declaration-profil-acheteur-synapse/20181015-182633/url-profilsacheteurs-synapse.csv\n",
      "x existing file https://static.data.gouv.fr/resources/profil-acheteur-3/20181031-094815/decp.csv\n",
      "- downloaded file [decp-ccas-de-meze.csv] https://static.data.gouv.fr/resources/decp-ccas-de-meze/20181105-163523/decp-ccas-de-meze.csv\n",
      "- downloaded file [decp-ville-de-meze.csv] https://static.data.gouv.fr/resources/decp-ville-de-meze/20181105-162102/decp-ville-de-meze.csv\n",
      "Done\n"
     ]
    }
   ],
   "source": [
    "# Download all tabular files in data/ directory, as best as we can\n",
    "\n",
    "downloaded = []\n",
    "for d in datasets:\n",
    "    if not d['organization'] and not d['owner']:\n",
    "        print('======= no owner or orga !!! ==========', d['slug'])\n",
    "        continue\n",
    "    orga = d['organization']['slug'] if d['organization'] else d['owner']['slug']\n",
    "    slug = d['slug']\n",
    "    for r in d['resources']:\n",
    "        rurl = r['url']\n",
    "        rid = r['id']\n",
    "        # ODS style NB: won't work more than once for CKAN\n",
    "        if 'format=csv' in rurl:\n",
    "            filename = rurl.split('/')[-3] + '.csv'\n",
    "        else:\n",
    "            filename = rurl.split('/')[-1]\n",
    "        if filename in downloaded:\n",
    "            print('x existing file %s' % rurl)\n",
    "            continue\n",
    "        ext = filename.split('.')[-1]\n",
    "        if ext not in ['csv']:\n",
    "            print('x ignored file %s' % rurl)\n",
    "            continue\n",
    "        r = requests.get(rurl, allow_redirects=True)\n",
    "        p = Path('data/%s' % slug)\n",
    "        p.mkdir(exist_ok=True, parents=True)\n",
    "        written_filename = '%s.%s' % (rid, ext) \n",
    "        with open('%s/%s' % (p, written_filename), 'wb') as f:\n",
    "            f.write(r.content)\n",
    "            downloaded.append(filename)\n",
    "            print('- downloaded file [%s] %s' % (filename, rurl))\n",
    "print('Done')"
   ]
  },
  {
   "cell_type": "code",
   "execution_count": 98,
   "metadata": {},
   "outputs": [],
   "source": [
    "def parse_csv(file_path):\n",
    "    # deactivate type testing, this puts too much constraint on parsing\n",
    "    # especially for lat/lon columns with commas\n",
    "    tester = agate.TypeTester(types=(agate.Text, ), limit=0)\n",
    "    with file_path.open('rb') as f:\n",
    "        encoding = chardet.detect(f.read()).get('encoding')\n",
    "    try:\n",
    "        # /!\\ force delimiter\n",
    "        # TODO maybe open with ; and if only one column, try with ',' or delim\n",
    "        # we're working with small files here which can explain sniffing is not so good\n",
    "        table = agate.Table.from_csv(file_path, encoding=encoding, sniff_limit=None, column_types=tester, delimiter=';')\n",
    "    except Exception as e:\n",
    "        print('[x] CSV parse error for %s (%s)' % (file_path, e))\n",
    "    else:\n",
    "        return table"
   ]
  },
  {
   "cell_type": "code",
   "execution_count": 99,
   "metadata": {},
   "outputs": [],
   "source": [
    "columns = ['siretAcheteur', 'urlProfilAcheteur', 'coordonnnées']\n",
    "columns_low = [x.lower() for x in columns]\n",
    "\n",
    "columns_mapping = [\n",
    "    ('siretAcheteur', 'siret'), \n",
    "    ('urlProfilAcheteur', 'url'), \n",
    "    ('coordonnnées', 'coordonnnees'), \n",
    "]"
   ]
  },
  {
   "cell_type": "code",
   "execution_count": 84,
   "metadata": {},
   "outputs": [
    {
     "name": "stdout",
     "output_type": "stream",
     "text": [
      "[x] CSV parse error for data/marches-publics-experimentation-opendatalocale-de-la-region-bourgogne-franche-comte/1adbf48a-d669-4c22-96f6-fea6a0f2226e.csv (Row 37 has 2 values, but Table only has 1 columns.)\n",
      "Skipping data/centre-pompidou-metz/e1577777-14f4-4dbb-8a83-2bd9dd3dd93c.csv for missing pivot ['siretacheteur'], cols were ['siret acheteur', 'urlprofilacheteur', 'coordonnnees']\n",
      "Skipping data/decp-epmsa/bea6112e-1475-421b-8c6f-6a43f2fea59a.csv for missing pivot ['siretacheteur'], cols were [\"identite de l'acheteur public : etablissement public medico-social d'amiens               (regroupement de 4 ehpad et 1 accueil de jour)\", 'b', 'c', 'd', 'identite du profil acheteur', 'f', 'g', 'h']\n",
      "DIFF for data/profil-acheteur/8571413a-3eb4-4007-9d85-bd04d2a2e114.csv: ['coordonnnees']\n",
      "DIFF for data/decp-declaration-profil-acheteur-2/2b475d6c-c608-466f-be2f-b66180f28751.csv: ['coordonnnees', 'urldcat']\n"
     ]
    },
    {
     "name": "stderr",
     "output_type": "stream",
     "text": [
      "/opt/conda/lib/python3.6/site-packages/agate/utils.py:276: UnnamedColumnWarning: Column 1 has no name. Using \"b\".\n",
      "/opt/conda/lib/python3.6/site-packages/agate/utils.py:276: UnnamedColumnWarning: Column 2 has no name. Using \"c\".\n",
      "/opt/conda/lib/python3.6/site-packages/agate/utils.py:276: UnnamedColumnWarning: Column 3 has no name. Using \"d\".\n",
      "/opt/conda/lib/python3.6/site-packages/agate/utils.py:276: UnnamedColumnWarning: Column 5 has no name. Using \"f\".\n",
      "/opt/conda/lib/python3.6/site-packages/agate/utils.py:276: UnnamedColumnWarning: Column 6 has no name. Using \"g\".\n",
      "/opt/conda/lib/python3.6/site-packages/agate/utils.py:276: UnnamedColumnWarning: Column 7 has no name. Using \"h\".\n"
     ]
    },
    {
     "name": "stdout",
     "output_type": "stream",
     "text": [
      "DIFF for data/declaration-des-profil-dacheteur-avenue-web-systemes/de988716-51a7-4134-9bab-d284c127b55c.csv: ['coordonnnees']\n",
      "DIFF for data/donnees-essentielles-de-la-commande-publique-de-la-ca-et-du-cias-bar-le-duc-sud-meuse/98488e76-aa43-4c5d-9745-bbda3841e8d5.csv: ['coordonnnees']\n",
      "DIFF for data/declaration-profil-dacheteur-de-la-plateforme-klekoon/287ae730-ddde-4081-b96d-f84d089a13e1.csv: ['coordonnnees']\n",
      "DIFF for data/declaration-profil-dacheteur-de-la-plateforme-klekoon/f6944b18-d8d4-4422-acd3-18c65c31ce89.csv: ['coordonnnees']\n",
      "DIFF for data/declaration-profil-acheteur-synapse/d70258a0-508a-493c-a78a-b09fe54d82b7.csv: ['coordonnnees']\n",
      "DIFF for data/publication-profil-dacheteur/cd6a8112-e556-42e8-b785-efe8b0ab93be.csv: ['coordonnnees']\n",
      "DIFF for data/profil-acheteur-1/74d7da4e-c35f-4115-a7dc-4c53c56df4ca.csv: ['coordonnnees']\n",
      "DIFF for data/declaration-du-profil-acheteur/e99030a3-b258-42a3-9b20-13f0632bb473.csv: ['coordonnnees']\n",
      "DIFF for data/decp-declaration-profil-acheteur/ee1c011f-3361-4281-92b6-16830a256b9b.csv: ['coordonnnees']\n",
      "DIFF for data/declaration-profil-dacheteur/287ae730-ddde-4081-b96d-f84d089a13e1.csv: ['coordonnnees']\n",
      "DIFF for data/declaration-d-un-acheteur/526e769f-2dda-46a2-a951-193dcb39a32b.csv: ['coordonnnees']\n",
      "Skipping data/annuaire-des-profils-acheteurs-des-adherents-de-territoires-numeriques-bourgogne-franche-comte/4f78f1d3-45d6-489b-9a2b-9928bd54a24d.csv for missing pivot ['siretacheteur'], cols were ['siret,nom,adresse,codepostal,ville,url']\n",
      "[x] CSV parse error for data/listes-des-marches-publics-du-casvp-a-compter-de-2018/b6fd2a6a-bfd9-4de9-98bc-e9d671ea70d3.csv (Row 4 has 39 values, but Table only has 22 columns.)\n",
      "DIFF for data/declaration-du-profil-dacheteur/c1fd0e85-4f6d-4113-a75e-74e99660ea68.csv: ['coordonnnees']\n",
      "Done.\n"
     ]
    }
   ],
   "source": [
    "# parse CSV files: analyze difference between standard schema and real data\n",
    "# infer a mapping of column names variation to match a maximum of data later\n",
    "\n",
    "# /!\\ this is only an analysis step that helped build `columns_mapping` above\n",
    "# you do not need to run this when doing a consolidation\n",
    "\n",
    "p = Path('data')\n",
    "for child in [x for x in p.iterdir() if x.is_dir()]:\n",
    "    csvs = list(child.glob('*.csv'))\n",
    "    for csv in csvs:\n",
    "        table = parse_csv(csv)\n",
    "        if table:\n",
    "            cols = [x.lower() for x in table.column_names]\n",
    "            missing_pivot = []\n",
    "            # TODO also match `siret`\n",
    "            for pivot in ['siretacheteur']:\n",
    "                if pivot not in cols:\n",
    "                    missing_pivot.append(pivot)\n",
    "            if missing_pivot:\n",
    "                print('Skipping %s for missing pivot %s, cols were %s' % (csv, missing_pivot, cols))\n",
    "                break\n",
    "            diff = list(set(cols) - set(columns_low))\n",
    "            if diff:\n",
    "                print('DIFF for %s: %s' % (csv, diff))\n",
    "print('Done.')"
   ]
  },
  {
   "cell_type": "code",
   "execution_count": 100,
   "metadata": {},
   "outputs": [
    {
     "name": "stdout",
     "output_type": "stream",
     "text": [
      "[x] CSV parse error for data/marches-publics-experimentation-opendatalocale-de-la-region-bourgogne-franche-comte/1adbf48a-d669-4c22-96f6-fea6a0f2226e.csv (Row 37 has 2 values, but Table only has 1 columns.)\n"
     ]
    },
    {
     "name": "stderr",
     "output_type": "stream",
     "text": [
      "/opt/conda/lib/python3.6/site-packages/agate/utils.py:276: UnnamedColumnWarning: Column 1 has no name. Using \"b\".\n",
      "/opt/conda/lib/python3.6/site-packages/agate/utils.py:276: UnnamedColumnWarning: Column 2 has no name. Using \"c\".\n",
      "/opt/conda/lib/python3.6/site-packages/agate/utils.py:276: UnnamedColumnWarning: Column 3 has no name. Using \"d\".\n",
      "/opt/conda/lib/python3.6/site-packages/agate/utils.py:276: UnnamedColumnWarning: Column 5 has no name. Using \"f\".\n",
      "/opt/conda/lib/python3.6/site-packages/agate/utils.py:276: UnnamedColumnWarning: Column 6 has no name. Using \"g\".\n",
      "/opt/conda/lib/python3.6/site-packages/agate/utils.py:276: UnnamedColumnWarning: Column 7 has no name. Using \"h\".\n"
     ]
    },
    {
     "name": "stdout",
     "output_type": "stream",
     "text": [
      "[x] CSV parse error for data/listes-des-marches-publics-du-casvp-a-compter-de-2018/b6fd2a6a-bfd9-4de9-98bc-e9d671ea70d3.csv (Row 4 has 39 values, but Table only has 22 columns.)\n"
     ]
    },
    {
     "data": {
      "text/plain": [
       "1527"
      ]
     },
     "execution_count": 100,
     "metadata": {},
     "output_type": "execute_result"
    }
   ],
   "source": [
    "# use columns_mapping to build a database of unique stations based on (id_station, id_pdc, max(date_maj))\n",
    "\n",
    "profils = []\n",
    "\n",
    "def find_by_pivot(row, lines):\n",
    "    pass\n",
    "\n",
    "def ifind_in_row_by_col(col, row):\n",
    "    for key in row.keys():\n",
    "        if col.lower() == key.lower():\n",
    "            return row[key]\n",
    "\n",
    "p = Path('data')\n",
    "\n",
    "# TODO assign a weight based on number of lines in CSV file\n",
    "# if duplicate, keep the one from the file w/ highest weight\n",
    "\n",
    "for child in [x for x in p.iterdir() if x.is_dir()]:\n",
    "    csvs = list(child.glob('*.csv'))\n",
    "    for csv in csvs:\n",
    "        table = parse_csv(csv)\n",
    "        if table:\n",
    "            table_cols = [x.lower() for x in table.column_names]\n",
    "            missing_pivot = []\n",
    "            # TODO also match `siret`\n",
    "            for pivot in ['siretacheteur']:\n",
    "                if pivot not in table_cols:\n",
    "                    missing_pivot.append(pivot)\n",
    "            if missing_pivot:\n",
    "                break\n",
    "            for row in table.rows:\n",
    "                profil = {}\n",
    "                for col in columns_mapping:\n",
    "                    for c in col:\n",
    "                        if c.lower() in table_cols:\n",
    "                            # use the standard name for column\n",
    "                            profil[col[0]] = ifind_in_row_by_col(c, row)\n",
    "                            break\n",
    "                # remove empty lines\n",
    "                if not profil.get('siretAcheteur'):\n",
    "                    continue\n",
    "                upatt = 'https://www.data.gouv.fr/fr/datasets/%s/#resource-%s'\n",
    "                profil['source'] = upatt % (csv.parents[0].stem, csv.stem)\n",
    "                # normalize siretAcheteur\n",
    "                profil['siretAcheteur'] = profil['siretAcheteur'].strip().replace(' ', '')\n",
    "                profils.append(profil)\n",
    "                \n",
    "len(profils)"
   ]
  },
  {
   "cell_type": "code",
   "execution_count": null,
   "metadata": {},
   "outputs": [],
   "source": []
  },
  {
   "cell_type": "code",
   "execution_count": 101,
   "metadata": {},
   "outputs": [],
   "source": [
    "# enjoy the results!\n",
    "\n",
    "import csv\n",
    "\n",
    "with open('decp-dpa.csv', 'w') as csvfile:\n",
    "    writer = csv.DictWriter(csvfile, fieldnames=columns + ['source'], delimiter=';')\n",
    "    writer.writeheader()\n",
    "    for b in profils:\n",
    "        writer.writerow(b)"
   ]
  },
  {
   "cell_type": "code",
   "execution_count": 102,
   "metadata": {},
   "outputs": [
    {
     "data": {
      "text/plain": [
       "1341"
      ]
     },
     "execution_count": 102,
     "metadata": {},
     "output_type": "execute_result"
    }
   ],
   "source": [
    "import pandas as pd\n",
    "\n",
    "df = pd.read_csv('decp-dpa.csv', sep=';')\n",
    "siret = pd.DataFrame(df.groupby('siretAcheteur').size())\n",
    "siret[siret[0] > 1][0].sum()"
   ]
  },
  {
   "cell_type": "markdown",
   "metadata": {},
   "source": [
    "## debug / test"
   ]
  },
  {
   "cell_type": "code",
   "execution_count": 42,
   "metadata": {},
   "outputs": [
    {
     "data": {
      "text/plain": [
       "('siretAcheteur', 'urlProfilAcheteur', 'coordonnnees')"
      ]
     },
     "execution_count": 42,
     "metadata": {},
     "output_type": "execute_result"
    }
   ],
   "source": [
    "source = 'data/declaration-du-profil-acheteur/e99030a3-b258-42a3-9b20-13f0632bb473.csv'\n",
    "table = agate.Table.from_csv(source, encoding=\"latin-1\", delimiter=';')\n",
    "table.column_names"
   ]
  },
  {
   "cell_type": "code",
   "execution_count": null,
   "metadata": {},
   "outputs": [],
   "source": []
  }
 ],
 "metadata": {
  "kernelspec": {
   "display_name": "Python 3",
   "language": "python",
   "name": "python3"
  },
  "language_info": {
   "codemirror_mode": {
    "name": "ipython",
    "version": 3
   },
   "file_extension": ".py",
   "mimetype": "text/x-python",
   "name": "python",
   "nbconvert_exporter": "python",
   "pygments_lexer": "ipython3",
   "version": "3.6.3"
  }
 },
 "nbformat": 4,
 "nbformat_minor": 2
}
