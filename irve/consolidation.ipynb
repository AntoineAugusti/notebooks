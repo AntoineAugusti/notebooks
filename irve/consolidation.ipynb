{
 "cells": [
  {
   "cell_type": "code",
   "execution_count": null,
   "metadata": {},
   "outputs": [],
   "source": [
    "import agate\n",
    "import agateexcel\n",
    "from pathlib import Path\n",
    "import cchardet as chardet"
   ]
  },
  {
   "cell_type": "code",
   "execution_count": null,
   "metadata": {},
   "outputs": [],
   "source": [
    "def parse_csv(file_path):\n",
    "    # deactivate type testing, this puts too much constraint on parsing\n",
    "    # especially for lat/lon columns with commas\n",
    "    tester = agate.TypeTester(types=(agate.Text, ), limit=0)\n",
    "    with file_path.open('rb') as f:\n",
    "        encoding = chardet.detect(f.read()).get('encoding')\n",
    "    try:\n",
    "        table = agate.Table.from_csv(file_path, encoding=encoding, sniff_limit=None, column_types=tester)\n",
    "    except Exception as e:\n",
    "        print('[x] CSV parse error for %s (%s)' % (file_path, e))\n",
    "    else:\n",
    "        return table"
   ]
  },
  {
   "cell_type": "code",
   "execution_count": null,
   "metadata": {},
   "outputs": [],
   "source": [
    "columns_mapping = [\n",
    "    ('n_amenageur', 'nom_amenageur', 'n_amenageu'), \n",
    "    ('n_operateur', 'n_operateu'), \n",
    "    ('n_enseigne', ), \n",
    "    ('id_station', ), \n",
    "    ('n_station', 'nom_station'), \n",
    "    ('ad_station', 'adresse_station'), \n",
    "    ('code_insee', ), \n",
    "    ('Xlongitude', 'longitude_wsg84'), \n",
    "    ('Ylatitude', 'latitude_wsg84'), \n",
    "    ('nbre_pdc', 'nbre_borne'), \n",
    "    ('id_pdc', 'n° borne'), \n",
    "    ('puiss_max', ), \n",
    "    ('type_prise', 'type_connecteur', 'typ_charge'), \n",
    "    ('acces_recharge', 'modalité d\\'accès à la borne', 'acces_rech'), \n",
    "    ('accessibilité', 'accessibilitã©', 'accessibilite', 'accessibilit�', 'accessibilit‚'), \n",
    "    ('observations', ), \n",
    "    ('date_maj', ),\n",
    "]\n",
    "columns = ['n_amenageur', 'n_operateur', 'n_enseigne', 'id_station', 'n_station', 'ad_station', 'code_insee', 'Xlongitude', 'Ylatitude', 'nbre_pdc', 'id_pdc', 'puiss_max', 'type_prise', 'acces_recharge', 'accessibilité', 'observations', 'date_maj']\n",
    "columns_low = [x.lower() for x in columns]"
   ]
  },
  {
   "cell_type": "code",
   "execution_count": null,
   "metadata": {},
   "outputs": [],
   "source": [
    "# parse CSV files: analyze difference between standard schema and real data\n",
    "# infer a mapping of column names variation to match a maximum of data later\n",
    "\n",
    "# /!\\ this is only an analysis step that helped build `columns_mapping` above\n",
    "# you do not need to run this when doing a consolidation\n",
    "\n",
    "p = Path('/tmp/out/data')\n",
    "for child in [x for x in p.iterdir() if x.is_dir()]:\n",
    "    csvs = list(child.glob('*.csv'))\n",
    "    for csv in csvs:\n",
    "        table = parse_csv(csv)\n",
    "        if table:\n",
    "            cols = [x.lower() for x in table.column_names]\n",
    "            missing_pivot = []\n",
    "            for pivot in ['id_station', 'id_pdc', 'date_maj']:\n",
    "                if pivot not in cols:\n",
    "                    missing_pivot.append(pivot)\n",
    "            if missing_pivot:\n",
    "                print('Skipping %s for missing pivot %s, cols were %s' % (csv, missing_pivot, cols))\n",
    "                break\n",
    "            diff = list(set(cols) - set(columns_low))\n",
    "            if diff:\n",
    "                print('DIFF for %s: %s' % (csv, diff))\n",
    "print('Done.')"
   ]
  },
  {
   "cell_type": "code",
   "execution_count": null,
   "metadata": {},
   "outputs": [],
   "source": [
    "# use columns_mapping to build a database of unique stations based on (id_station, id_pdc, max(date_maj))\n",
    "\n",
    "bornes = []\n",
    "\n",
    "def find_by_pivot(row, lines):\n",
    "    pass\n",
    "\n",
    "def ifind_in_row_by_col(col, row):\n",
    "    for key in row.keys():\n",
    "        if col.lower() == key.lower():\n",
    "            return row[key]\n",
    "\n",
    "p = Path('/tmp/out/data')\n",
    "\n",
    "for child in [x for x in p.iterdir() if x.is_dir()]:\n",
    "    csvs = list(child.glob('*.csv'))\n",
    "    for csv in csvs:\n",
    "        table = parse_csv(csv)\n",
    "        if table:\n",
    "            table_cols = [x.lower() for x in table.column_names]\n",
    "            missing_pivot = []\n",
    "            for pivot in ['id_station', 'id_pdc', 'date_maj']:\n",
    "                if pivot not in table_cols:\n",
    "                    missing_pivot.append(pivot)\n",
    "            if missing_pivot:\n",
    "                break\n",
    "            for row in table.rows:\n",
    "                borne = {}\n",
    "                for col in columns_mapping:\n",
    "                    for c in col:\n",
    "                        if c.lower() in table_cols:\n",
    "                            # use the standard name for column\n",
    "                            borne[col[0]] = ifind_in_row_by_col(c, row)\n",
    "                            break\n",
    "                upatt = 'https://www.data.gouv.fr/fr/datasets/%s/#resource-%s'\n",
    "                borne['source'] = upatt % (csv.parents[0].stem, csv.stem)\n",
    "                bornes.append(borne)"
   ]
  },
  {
   "cell_type": "code",
   "execution_count": null,
   "metadata": {},
   "outputs": [],
   "source": [
    "len(bornes)"
   ]
  },
  {
   "cell_type": "code",
   "execution_count": null,
   "metadata": {},
   "outputs": [],
   "source": [
    "# deduplicate based on date_maj and id_pdc\n",
    "from dateutil.parser import parse\n",
    "\n",
    "unique_bornes = []\n",
    "\n",
    "def parse_date(date):\n",
    "    date = str(date)\n",
    "    try:\n",
    "        return parse(date)\n",
    "    except ValueError:\n",
    "        return parse('1970-1-1')\n",
    "\n",
    "# filter out id_pdc==None\n",
    "# TODO maybe use (id_station, id_pdc) instead of only id_pdc\n",
    "ids = set([b['id_pdc'] for b in bornes if (b['id_pdc'] and str(b['id_pdc']).strip())])\n",
    "for _id in ids:\n",
    "    bs = [b for b in bornes if b['id_pdc'] == _id]\n",
    "    if len(bs) > 1:\n",
    "        max_date = max([parse_date(b['date_maj']) for b in bs])\n",
    "        unique = [b for b in bs if parse_date(b['date_maj']) == max_date][0]\n",
    "    else:\n",
    "        unique = bs[0]\n",
    "    ## Data hacks\n",
    "    # replace `date_maj` original value with parsed date\n",
    "    unique['date_maj'] = parse_date(unique['date_maj']).strftime('%Y/%m/%d')\n",
    "    # replace `Xlongitude` and `Xlatitude` commas with points\n",
    "    unique['Xlongitude'] = unique['Xlongitude'].replace(',', '.') if unique['Xlongitude'] else ''\n",
    "    unique['Ylatitude'] = unique['Ylatitude'].replace(',', '.') if unique['Ylatitude'] else ''\n",
    "    unique_bornes.append(unique)"
   ]
  },
  {
   "cell_type": "code",
   "execution_count": null,
   "metadata": {},
   "outputs": [],
   "source": [
    "len(bornes), len([b for b in bornes if b['id_pdc']]), len(unique_bornes)"
   ]
  },
  {
   "cell_type": "code",
   "execution_count": null,
   "metadata": {},
   "outputs": [],
   "source": [
    "# enjoy the results!\n",
    "\n",
    "import csv\n",
    "\n",
    "# sort by n_amenageur\n",
    "unique_bornes.sort(key=lambda k: k['n_amenageur'])\n",
    "\n",
    "with open('/tmp/out/bornes-IRVE.csv', 'w') as csvfile:\n",
    "    writer = csv.DictWriter(csvfile, fieldnames=columns + ['source'], delimiter=';')\n",
    "    writer.writeheader()\n",
    "    for b in unique_bornes:\n",
    "        writer.writerow(b)"
   ]
  },
  {
   "cell_type": "code",
   "execution_count": null,
   "metadata": {},
   "outputs": [],
   "source": []
  }
 ],
 "metadata": {
  "kernelspec": {
   "display_name": "Python 3",
   "language": "python",
   "name": "python3"
  },
  "language_info": {
   "codemirror_mode": {
    "name": "ipython",
    "version": 3
   },
   "file_extension": ".py",
   "mimetype": "text/x-python",
   "name": "python",
   "nbconvert_exporter": "python",
   "pygments_lexer": "ipython3",
   "version": "3.6.7"
  }
 },
 "nbformat": 4,
 "nbformat_minor": 2
}
