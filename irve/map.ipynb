{
 "cells": [
  {
   "cell_type": "markdown",
   "metadata": {},
   "source": [
    "## TODO\n",
    "\n",
    "- [ ] afficher un fond de carte"
   ]
  },
  {
   "cell_type": "code",
   "execution_count": null,
   "metadata": {},
   "outputs": [],
   "source": [
    "import pandas as pd\n",
    "import numpy as np\n",
    "\n",
    "import holoviews as hv\n",
    "from holoviews import opts\n",
    "import geoviews as gv\n",
    "import geoviews.feature as gf\n",
    "\n",
    "import datashader as ds\n",
    "import datashader.transfer_functions as tf\n",
    "from datashader.transfer_functions import shade, stack\n",
    "from holoviews.operation.datashader import datashade\n",
    "\n",
    "hv.extension('bokeh', width=95)"
   ]
  },
  {
   "cell_type": "code",
   "execution_count": null,
   "metadata": {},
   "outputs": [],
   "source": [
    "opts.defaults(\n",
    "    opts.Points(apply_ranges=False, ),\n",
    "    opts.RGB(width=1200, height=682, xaxis=None, yaxis=None, show_grid=False),\n",
    "    opts.Shape(fill_alpha=0, line_width=1.5, apply_ranges=False, tools=['tap']),\n",
    "    opts.WMTS(alpha=0.5)\n",
    ")"
   ]
  },
  {
   "cell_type": "code",
   "execution_count": null,
   "metadata": {},
   "outputs": [],
   "source": [
    "df = pd.read_csv(\"out/bornes-IRVE.csv\", sep=\";\")"
   ]
  },
  {
   "cell_type": "code",
   "execution_count": null,
   "metadata": {},
   "outputs": [],
   "source": [
    "df = df[ pd.to_numeric(df['Xlongitude'], errors='coerce').notnull() ]\n",
    "df = df[ pd.to_numeric(df['Ylatitude'], errors='coerce').notnull() ]\n",
    "df = df[ pd.to_numeric(df['nbre_pdc'], errors='coerce').notnull() ]"
   ]
  },
  {
   "cell_type": "code",
   "execution_count": null,
   "metadata": {},
   "outputs": [],
   "source": [
    "df['Xlongitude'] = pd.to_numeric(df['Xlongitude'])\n",
    "df['Ylatitude'] = pd.to_numeric(df['Ylatitude'])\n",
    "df['nbre_pdc'] = pd.to_numeric(df['nbre_pdc'])"
   ]
  },
  {
   "cell_type": "code",
   "execution_count": null,
   "metadata": {},
   "outputs": [],
   "source": [
    "list(df)"
   ]
  },
  {
   "cell_type": "code",
   "execution_count": null,
   "metadata": {},
   "outputs": [],
   "source": [
    "df.info()"
   ]
  },
  {
   "cell_type": "code",
   "execution_count": null,
   "metadata": {},
   "outputs": [],
   "source": [
    "df[[\"Xlongitude\",\"Ylatitude\",\"nbre_pdc\"]].head()"
   ]
  },
  {
   "cell_type": "code",
   "execution_count": null,
   "metadata": {},
   "outputs": [],
   "source": [
    "bounds = [[-6.152344,42.504503],[8.701172,51.713416]]\n",
    "\n",
    "cvs = ds.Canvas(plot_width=300, plot_height=300, x_range=(-6.152344,8.701172), y_range=(42.504503,51.713416))\n",
    "agg = cvs.points(df, 'Xlongitude', 'Ylatitude', ds.count('nbre_pdc'))\n",
    "img = tf.shade(agg, cmap=['lightblue', 'darkblue'], how='log')\n",
    "\n",
    "img"
   ]
  },
  {
   "cell_type": "code",
   "execution_count": null,
   "metadata": {},
   "outputs": [],
   "source": [
    "tf.Images(tf.shade(ds.Canvas().raster(agg, interpolate='linear')))"
   ]
  },
  {
   "cell_type": "code",
   "execution_count": null,
   "metadata": {},
   "outputs": [],
   "source": [
    "url=\"http://server.arcgisonline.com/ArcGIS/rest/services/World_Imagery/MapServer/tile/{Z}/{Y}/{X}.png\"\n",
    "geomap = gv.WMTS(url)\n",
    "points = hv.Points(gv.Dataset(df, kdims=['Xlongitude', 'Ylatitude']))\n",
    "irve = dynspread(datashade(points, element_type=gv.Image, aggregator=ds.sum('nbre_pdc')))\n",
    "geomap * irve"
   ]
  },
  {
   "cell_type": "code",
   "execution_count": null,
   "metadata": {},
   "outputs": [],
   "source": []
  }
 ],
 "metadata": {
  "kernelspec": {
   "display_name": "Python 3",
   "language": "python",
   "name": "python3"
  },
  "language_info": {
   "codemirror_mode": {
    "name": "ipython",
    "version": 3
   },
   "file_extension": ".py",
   "mimetype": "text/x-python",
   "name": "python",
   "nbconvert_exporter": "python",
   "pygments_lexer": "ipython3",
   "version": "3.6.7"
  }
 },
 "nbformat": 4,
 "nbformat_minor": 2
}
