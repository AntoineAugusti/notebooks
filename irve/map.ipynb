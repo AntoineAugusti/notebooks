{
 "cells": [
  {
   "cell_type": "markdown",
   "metadata": {},
   "source": [
    "## TODO\n",
    "\n",
    "- [ ] afficher un fond de carte"
   ]
  },
  {
   "cell_type": "code",
   "execution_count": null,
   "metadata": {},
   "outputs": [],
   "source": [
    "import pandas as pd\n",
    "import numpy as np\n",
    "\n",
    "import holoviews as hv\n",
    "from holoviews import opts\n",
    "import geoviews as gv\n",
    "import geoviews.feature as gf\n",
    "\n",
    "import datashader as ds\n",
    "import datashader.transfer_functions as tf\n",
    "from holoviews.operation.datashader import datashade\n",
    "\n",
    "hv.extension('bokeh', width=95)"
   ]
  },
  {
   "cell_type": "code",
   "execution_count": null,
   "metadata": {},
   "outputs": [],
   "source": [
    "opts.defaults(\n",
    "    opts.Points(apply_ranges=False, ),\n",
    "    opts.RGB(width=1200, height=682, xaxis=None, yaxis=None, show_grid=False),\n",
    "    opts.Shape(fill_alpha=0, line_width=1.5, apply_ranges=False, tools=['tap']),\n",
    "    opts.WMTS(alpha=0.5)\n",
    ")"
   ]
  },
  {
   "cell_type": "code",
   "execution_count": null,
   "metadata": {},
   "outputs": [],
   "source": [
    "df = pd.read_csv(\"out/bornes-IRVE.csv\", sep=\";\")"
   ]
  },
  {
   "cell_type": "code",
   "execution_count": null,
   "metadata": {},
   "outputs": [],
   "source": [
    "df = df[ pd.to_numeric(df['Xlongitude'], errors='coerce').notnull() ]\n",
    "df = df[ pd.to_numeric(df['Ylatitude'], errors='coerce').notnull() ]\n",
    "df = df[ pd.to_numeric(df['nbre_pdc'], errors='coerce').notnull() ]"
   ]
  },
  {
   "cell_type": "code",
   "execution_count": null,
   "metadata": {},
   "outputs": [],
   "source": [
    "df['Xlongitude'] = pd.to_numeric(df['Xlongitude'])\n",
    "df['Ylatitude'] = pd.to_numeric(df['Ylatitude'])\n",
    "df['nbre_pdc'] = pd.to_numeric(df['nbre_pdc'])"
   ]
  },
  {
   "cell_type": "code",
   "execution_count": null,
   "metadata": {},
   "outputs": [],
   "source": [
    "list(df)"
   ]
  },
  {
   "cell_type": "code",
   "execution_count": null,
   "metadata": {},
   "outputs": [],
   "source": [
    "df.info()"
   ]
  },
  {
   "cell_type": "code",
   "execution_count": null,
   "metadata": {},
   "outputs": [],
   "source": [
    "df[[\"Xlongitude\",\"Ylatitude\",\"nbre_pdc\"]].head()"
   ]
  },
  {
   "cell_type": "code",
   "execution_count": null,
   "metadata": {},
   "outputs": [],
   "source": [
    "bounds = [[-6.152344,42.504503],[8.701172,51.713416]]\n",
    "\n",
    "cvs = ds.Canvas(plot_width=600, plot_height=600, x_range=(-6.152344,8.701172), y_range=(42.504503,51.713416))\n",
    "agg = cvs.points(df, 'Xlongitude', 'Ylatitude', ds.sum('nbre_pdc'))\n",
    "img = tf.shade(agg, cmap=['lightblue', 'darkblue'], how='log')\n",
    "\n",
    "img"
   ]
  }
 ],
 "metadata": {
  "kernelspec": {
   "display_name": "Python 3",
   "language": "python",
   "name": "python3"
  },
  "language_info": {
   "codemirror_mode": {
    "name": "ipython",
    "version": 3
   },
   "file_extension": ".py",
   "mimetype": "text/x-python",
   "name": "python",
   "nbconvert_exporter": "python",
   "pygments_lexer": "ipython3",
   "version": "3.6.7"
  }
 },
 "nbformat": 4,
 "nbformat_minor": 2
}
