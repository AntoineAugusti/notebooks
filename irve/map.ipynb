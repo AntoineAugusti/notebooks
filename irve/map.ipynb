{
 "cells": [
  {
   "cell_type": "markdown",
   "metadata": {},
   "source": [
    "# Cartographie des points de charge IRVE recencées sur data.gouv.fr\n",
    "\n",
    "## TODO\n",
    "\n",
    "- [X] afficher un fond de carte\n",
    "- [ ] faire une jolie carte\n",
    "- [ ] version interactive"
   ]
  },
  {
   "cell_type": "code",
   "execution_count": null,
   "metadata": {},
   "outputs": [],
   "source": [
    "import pandas as pd\n",
    "import numpy as np\n",
    "\n",
    "import holoviews as hv\n",
    "from holoviews import opts\n",
    "from holoviews.operation import decimate\n",
    "from holoviews.operation.datashader import datashade, dynspread\n",
    "\n",
    "import geoviews as gv\n",
    "import geoviews.feature as gf\n",
    "\n",
    "import datashader as ds\n",
    "import datashader.transfer_functions as tf\n",
    "from datashader.transfer_functions import shade, stack\n",
    "\n",
    "hv.extension('bokeh', width=95)"
   ]
  },
  {
   "cell_type": "code",
   "execution_count": null,
   "metadata": {},
   "outputs": [],
   "source": [
    "df = pd.read_csv(\"/tmp/out/bornes-IRVE.csv\", sep=\";\")"
   ]
  },
  {
   "cell_type": "code",
   "execution_count": null,
   "metadata": {},
   "outputs": [],
   "source": [
    "df = df[ pd.to_numeric(df['Xlongitude'], errors='coerce').notnull() ]\n",
    "df = df[ pd.to_numeric(df['Ylatitude'], errors='coerce').notnull() ]\n",
    "df = df[ pd.to_numeric(df['nbre_pdc'], errors='coerce').notnull() ]"
   ]
  },
  {
   "cell_type": "code",
   "execution_count": null,
   "metadata": {},
   "outputs": [],
   "source": [
    "df['Xlongitude'] = pd.to_numeric(df['Xlongitude'])\n",
    "df['Ylatitude'] = pd.to_numeric(df['Ylatitude'])\n",
    "df['nbre_pdc'] = pd.to_numeric(df['nbre_pdc'])"
   ]
  },
  {
   "cell_type": "code",
   "execution_count": null,
   "metadata": {},
   "outputs": [],
   "source": [
    "list(df)"
   ]
  },
  {
   "cell_type": "code",
   "execution_count": null,
   "metadata": {},
   "outputs": [],
   "source": [
    "df.info()"
   ]
  },
  {
   "cell_type": "code",
   "execution_count": null,
   "metadata": {},
   "outputs": [],
   "source": [
    "df[[\"Xlongitude\",\"Ylatitude\",\"nbre_pdc\"]].head()"
   ]
  },
  {
   "cell_type": "code",
   "execution_count": null,
   "metadata": {},
   "outputs": [],
   "source": [
    "(df['x'], df['y']) = ds.utils.lnglat_to_meters(df['Xlongitude'], df['Ylatitude'])"
   ]
  },
  {
   "cell_type": "code",
   "execution_count": null,
   "metadata": {},
   "outputs": [],
   "source": [
    "bounds = [[-6.152344,42.504503],[8.701172,51.713416]]\n",
    "\n",
    "cvs = ds.Canvas(plot_width=300, plot_height=300)\n",
    "agg = cvs.points(df, 'x', 'y', ds.count('nbre_pdc'))\n",
    "img = tf.shade(agg, cmap=['lightblue', 'darkblue'], how='log')\n",
    "\n",
    "img"
   ]
  },
  {
   "cell_type": "code",
   "execution_count": null,
   "metadata": {},
   "outputs": [],
   "source": [
    "from colorcet import cm, fire\n",
    "from geoviews.tile_sources import EsriImagery\n",
    "import cartopy.crs as ccrs"
   ]
  },
  {
   "cell_type": "code",
   "execution_count": null,
   "metadata": {},
   "outputs": [],
   "source": [
    "opts = dict(width=600, height=600, xaxis=None, yaxis=None, bgcolor='white')\n",
    "\n",
    "dataset = gv.Dataset(df, kdims=['Xlongitude', 'Ylatitude'], vdims=['nbre_pdc'])\n",
    "points = hv.Points(df, ['x', 'y'], ['nbre_pdc'])\n",
    "#decimate(points.options(**opts))\n",
    "\n",
    "pdc = datashade(points, cmap=fire, aggregator=ds.sum('nbre_pdc')).options(**opts)\n",
    "\n",
    "print(points)\n",
    "(pdc * EsriImagery) + (dynspread(pdc) * EsriImagery)"
   ]
  },
  {
   "cell_type": "code",
   "execution_count": null,
   "metadata": {},
   "outputs": [],
   "source": [
    "France = ((-6.152344, 8.701172), (42.504503, 51.713416))\n",
    "x_range,y_range = [list(r) for r in ds.utils.lnglat_to_meters(*France)]\n",
    "\n",
    "cvs = ds.Canvas(plot_width=800, plot_height=800, x_range=x_range, y_range=y_range)\n",
    "agg = cvs.points(df, 'x', 'y', ds.count('nbre_pdc'))\n",
    "img = tf.shade(agg, cmap=['lightblue', 'darkblue'], how='eq_hist')\n",
    "\n",
    "img"
   ]
  },
  {
   "cell_type": "code",
   "execution_count": null,
   "metadata": {},
   "outputs": [],
   "source": [
    "shapefile = '/tmp/out/departements-20140306-100m.shp'\n",
    "departements = gv.Shape.from_shapefile(shapefile)"
   ]
  },
  {
   "cell_type": "code",
   "execution_count": null,
   "metadata": {},
   "outputs": [],
   "source": [
    "departements * dynspread(pdc)"
   ]
  },
  {
   "cell_type": "code",
   "execution_count": null,
   "metadata": {},
   "outputs": [],
   "source": []
  }
 ],
 "metadata": {
  "kernelspec": {
   "display_name": "Python 3",
   "language": "python",
   "name": "python3"
  },
  "language_info": {
   "codemirror_mode": {
    "name": "ipython",
    "version": 3
   },
   "file_extension": ".py",
   "mimetype": "text/x-python",
   "name": "python",
   "nbconvert_exporter": "python",
   "pygments_lexer": "ipython3",
   "version": "3.6.6"
  }
 },
 "nbformat": 4,
 "nbformat_minor": 2
}
