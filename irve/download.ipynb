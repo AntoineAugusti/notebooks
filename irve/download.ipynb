{
 "cells": [
  {
   "cell_type": "code",
   "execution_count": null,
   "metadata": {},
   "outputs": [],
   "source": [
    "import requests\n",
    "import json\n",
    "from pathlib import Path\n",
    "from tqdm import tqdm"
   ]
  },
  {
   "cell_type": "code",
   "execution_count": null,
   "metadata": {},
   "outputs": [],
   "source": [
    "def download(datasets):\n",
    "    downloaded = []\n",
    "    \n",
    "    for d in tqdm(datasets):\n",
    "\n",
    "        orga = d['organization']['slug'] if d['organization'] else d['owner']['slug']\n",
    "        slug = d['slug']\n",
    "        id = d['id']\n",
    "        \n",
    "        for r in d['resources']:\n",
    "            rurl = r['url']\n",
    "            rid = r['id']\n",
    "\n",
    "            # ODS style NB: won't work more than once for CKAN\n",
    "            if 'format=csv' in rurl:\n",
    "                filename = rurl.split('/')[-3] + '.csv'\n",
    "            else:\n",
    "                filename = rurl.split('/')[-1]\n",
    "            \n",
    "            if filename in downloaded:\n",
    "                print('x existing file %s' % rurl)\n",
    "                continue\n",
    "            \n",
    "            ext = filename.split('.')[-1]\n",
    "            \n",
    "            if ext not in ['csv', 'xls', 'xlsx']:\n",
    "                print('x ignored file %s' % rurl)\n",
    "                continue\n",
    "            \n",
    "            r = requests.get(rurl, allow_redirects=True)\n",
    "            p = Path('out/data/%s' % id)\n",
    "            \n",
    "            p.mkdir(exist_ok=True)\n",
    "            \n",
    "            #l = 253 -len(ext) -1\n",
    "            #rid = rid[:l]\n",
    "            written_filename = '%s.%s' % (rid, ext) \n",
    "            \n",
    "            with open('%s/%s' % (p, written_filename), 'wb') as f:\n",
    "                f.write(r.content)\n",
    "                downloaded.append(filename)\n",
    "                #print('- downloaded file [%s] %s' % (filename, rurl))\n",
    "    \n",
    "download(json.load(open(\"out/datasets.json\")))"
   ]
  },
  {
   "cell_type": "code",
   "execution_count": null,
   "metadata": {},
   "outputs": [],
   "source": []
  }
 ],
 "metadata": {
  "kernelspec": {
   "display_name": "Python 3",
   "language": "python",
   "name": "python3"
  },
  "language_info": {
   "codemirror_mode": {
    "name": "ipython",
    "version": 3
   },
   "file_extension": ".py",
   "mimetype": "text/x-python",
   "name": "python",
   "nbconvert_exporter": "python",
   "pygments_lexer": "ipython3",
   "version": "3.6.7"
  }
 },
 "nbformat": 4,
 "nbformat_minor": 2
}
