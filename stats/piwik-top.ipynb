{
 "cells": [
  {
   "cell_type": "markdown",
   "metadata": {},
   "source": [
    "# Fetch stats from piwik\n",
    "\n",
    "- uses the public piwik API\n",
    "- fetch top visited datasets on a given period\n",
    "- notifies through Slack\n",
    "- entrypoint: compute(period, date, title='')"
   ]
  },
  {
   "cell_type": "code",
   "execution_count": null,
   "metadata": {},
   "outputs": [],
   "source": [
    "import requests"
   ]
  },
  {
   "cell_type": "code",
   "execution_count": null,
   "metadata": {},
   "outputs": [],
   "source": [
    "import os\n",
    "from pathlib import Path\n",
    "current_path = Path(os.getenv('WORKING_DIR')) if os.getenv('WORKING_DIR') else Path().absolute()"
   ]
  },
  {
   "cell_type": "code",
   "execution_count": null,
   "metadata": {},
   "outputs": [],
   "source": [
    "# load config\n",
    "import configparser\n",
    "config = configparser.ConfigParser()\n",
    "config.read(current_path / 'config.ini')\n",
    "assert 'secrets' in config.sections()\n",
    "\n",
    "wh_url = config.get('secrets', 'slack_webhook_url')"
   ]
  },
  {
   "cell_type": "code",
   "execution_count": null,
   "metadata": {},
   "outputs": [],
   "source": [
    "base_url = 'https://stats.data.gouv.fr/index.php'"
   ]
  },
  {
   "cell_type": "code",
   "execution_count": null,
   "metadata": {},
   "outputs": [],
   "source": [
    "params = {\n",
    "    'module': 'API',\n",
    "    'idSite': 109,\n",
    "    'date': 'yesterday',\n",
    "    'period': 'day',\n",
    "    'format': 'json',\n",
    "    'method': 'Actions.getPageUrls',\n",
    "    'expanded': 1,\n",
    "    'flat': 1,\n",
    "    'filter_limit': 10,\n",
    "    'filter_column': 'label',\n",
    "    'filter_pattern': '/fr/datasets/'\n",
    "}"
   ]
  },
  {
   "cell_type": "code",
   "execution_count": null,
   "metadata": {},
   "outputs": [],
   "source": [
    "def compute(period, date, title=''):\n",
    "    params['period'] = period\n",
    "    params['date'] = date\n",
    "    r = requests.get(base_url, params=params)\n",
    "    databits = []\n",
    "    for data in r.json():\n",
    "        if 'url' in data:\n",
    "            databits.append(data)\n",
    "            print(str(data['nb_visits']).ljust(10), data['url'])\n",
    "    send_message(databits, title)"
   ]
  },
  {
   "cell_type": "code",
   "execution_count": null,
   "metadata": {},
   "outputs": [],
   "source": [
    "def send_message(databits, title):\n",
    "    message = []\n",
    "    for data in databits:\n",
    "        url = f\"<{data['url']}|{data['url'].split('/')[-2]}>\"\n",
    "        message.append(f\"`{data['nb_visits']}`\".ljust(8) + url)\n",
    "    message = '\\n'.join(message)\n",
    "    message = f\"-- *{title}* --\\n{message}\"\n",
    "    requests.post(wh_url, json={'text': message})"
   ]
  }
 ],
 "metadata": {
  "kernelspec": {
   "display_name": "Python 3",
   "language": "python",
   "name": "python3"
  },
  "language_info": {
   "codemirror_mode": {
    "name": "ipython",
    "version": 3
   },
   "file_extension": ".py",
   "mimetype": "text/x-python",
   "name": "python",
   "nbconvert_exporter": "python",
   "pygments_lexer": "ipython3",
   "version": "3.7.6"
  }
 },
 "nbformat": 4,
 "nbformat_minor": 1
}
