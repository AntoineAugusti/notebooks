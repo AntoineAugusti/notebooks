{
 "cells": [
  {
   "cell_type": "markdown",
   "metadata": {},
   "source": [
    "# Fetch daily stats from Piwik"
   ]
  },
  {
   "cell_type": "code",
   "execution_count": null,
   "metadata": {},
   "outputs": [],
   "source": [
    "import os\n",
    "from pathlib import Path"
   ]
  },
  {
   "cell_type": "code",
   "execution_count": null,
   "metadata": {},
   "outputs": [],
   "source": [
    "current_path = Path(os.getenv('WORKING_DIR')) if os.getenv('WORKING_DIR') else Path().absolute()\n",
    "fn_path = '%s' % (current_path / 'piwik-top.ipynb')\n",
    "%run $fn_path"
   ]
  },
  {
   "cell_type": "code",
   "execution_count": null,
   "metadata": {},
   "outputs": [],
   "source": [
    "# image (graph) des visites des 30 derniers jours\n",
    "data={\n",
    "    \"blocks\": [\n",
    "        {\n",
    "            \"type\": \"image\",\n",
    "            \"title\": {\n",
    "                \"type\": \"plain_text\",\n",
    "                \"text\": \"Evolution des visites sur les trente derniers jours\"\n",
    "            },\n",
    "            \"block_id\": \"img-evolution-visite\",\n",
    "            \"image_url\": \"https://stats.data.gouv.fr/?module=API&method=ImageGraph.get&idSite=109&apiModule=VisitsSummary&apiAction=get&token_auth=anonymous&graphType=evolution&period=day&date=previous30&width=500&height=250\",\n",
    "            \"alt_text\": \"Evolution des visites\"\n",
    "        }\n",
    "    ]\n",
    "}\n",
    "\n",
    "send_to_slack(data)"
   ]
  },
  {
   "cell_type": "code",
   "execution_count": null,
   "metadata": {},
   "outputs": [],
   "source": [
    "compute('datasets', 'day', 'yesterday', 'Top 10 jeux de données hier (visites)')"
   ]
  },
  {
   "cell_type": "code",
   "execution_count": null,
   "metadata": {},
   "outputs": [],
   "source": [
    "compute('reuses', 'day', 'yesterday', 'Top 11 réutilisations hier (visites)')"
   ]
  }
 ],
 "metadata": {
  "kernelspec": {
   "display_name": "Python 3",
   "language": "python",
   "name": "python3"
  },
  "language_info": {
   "codemirror_mode": {
    "name": "ipython",
    "version": 3
   },
   "file_extension": ".py",
   "mimetype": "text/x-python",
   "name": "python",
   "nbconvert_exporter": "python",
   "pygments_lexer": "ipython3",
   "version": "3.7.6"
  }
 },
 "nbformat": 4,
 "nbformat_minor": 2
}
