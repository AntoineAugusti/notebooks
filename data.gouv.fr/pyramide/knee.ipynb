{
 "cells": [
  {
   "cell_type": "code",
   "execution_count": null,
   "metadata": {},
   "outputs": [],
   "source": [
    "import pandas as pd\n",
    "import numpy as np\n",
    "from numpy import matlib as mb"
   ]
  },
  {
   "cell_type": "code",
   "execution_count": null,
   "metadata": {},
   "outputs": [],
   "source": [
    "year = 2018"
   ]
  },
  {
   "cell_type": "code",
   "execution_count": null,
   "metadata": {},
   "outputs": [],
   "source": [
    "df = pd.read_csv('out/datasets-hits-%s.csv' % year)"
   ]
  },
  {
   "cell_type": "code",
   "execution_count": null,
   "metadata": {},
   "outputs": [],
   "source": [
    "df['nb_hits'].describe()"
   ]
  },
  {
   "cell_type": "code",
   "execution_count": null,
   "metadata": {},
   "outputs": [],
   "source": [
    "# source: https://dataplatform.cloud.ibm.com/analytics/notebooks/54d79c2a-f155-40ec-93ec-ed05b58afa39/view?access_token=6d8ec910cf2a1b3901c721fcb94638563cd646fe14400fecbb76cea6aaae2fb1\n",
    "\n",
    "# pull out the list from pandas frame\n",
    "values=list(df['nb_hits'])\n",
    "\n",
    "#get coordinates of all the points\n",
    "nPoints = len(values)\n",
    "allCoord = np.vstack((range(nPoints), values)).T\n",
    "#np.array([range(nPoints), values])\n",
    "\n",
    "# get the first point\n",
    "firstPoint = allCoord[0]\n",
    "# get vector between first and last point - this is the line\n",
    "lineVec = allCoord[-1] - allCoord[0]\n",
    "lineVecNorm = lineVec / np.sqrt(np.sum(lineVec**2))\n",
    "\n",
    "# find the distance from each point to the line:\n",
    "# vector between all points and first point\n",
    "vecFromFirst = allCoord - firstPoint\n",
    "\n",
    "# To calculate the distance to the line, we split vecFromFirst into two \n",
    "# components, one that is parallel to the line and one that is perpendicular \n",
    "# Then, we take the norm of the part that is perpendicular to the line and \n",
    "# get the distance.\n",
    "# We find the vector parallel to the line by projecting vecFromFirst onto \n",
    "# the line. The perpendicular vector is vecFromFirst - vecFromFirstParallel\n",
    "# We project vecFromFirst by taking the scalar product of the vector with \n",
    "# the unit vector that points in the direction of the line (this gives us \n",
    "# the length of the projection of vecFromFirst onto the line). If we \n",
    "# multiply the scalar product by the unit vector, we have vecFromFirstParallel\n",
    "scalarProduct = np.sum(vecFromFirst * mb.repmat(lineVecNorm, nPoints, 1), axis=1)\n",
    "vecFromFirstParallel = np.outer(scalarProduct, lineVecNorm)\n",
    "vecToLine = vecFromFirst - vecFromFirstParallel\n",
    "\n",
    "# distance to line is the norm of vecToLine\n",
    "distToLine = np.sqrt(np.sum(vecToLine ** 2, axis=1))\n",
    "\n",
    "# knee/elbow is the point with max distance value\n",
    "idxOfBestPoint = np.argmax(distToLine)\n",
    "\n",
    "print(\"Knee of the curve is at index =\",idxOfBestPoint)\n",
    "print(\"Knee value =\", values[idxOfBestPoint])\n",
    "\n"
   ]
  },
  {
   "cell_type": "code",
   "execution_count": null,
   "metadata": {},
   "outputs": [],
   "source": [
    "df.iloc[:idxOfBestPoint].to_csv(\"out/top-%s.csv\" % year)"
   ]
  },
  {
   "cell_type": "code",
   "execution_count": null,
   "metadata": {},
   "outputs": [],
   "source": [
    "df.iloc[idxOfBestPoint:].to_csv(\"out/bottom-%s.csv\" % year)"
   ]
  },
  {
   "cell_type": "code",
   "execution_count": null,
   "metadata": {},
   "outputs": [],
   "source": []
  }
 ],
 "metadata": {
  "kernelspec": {
   "display_name": "Python 3",
   "language": "python",
   "name": "python3"
  },
  "language_info": {
   "codemirror_mode": {
    "name": "ipython",
    "version": 3
   },
   "file_extension": ".py",
   "mimetype": "text/x-python",
   "name": "python",
   "nbconvert_exporter": "python",
   "pygments_lexer": "ipython3",
   "version": "3.6.6"
  }
 },
 "nbformat": 4,
 "nbformat_minor": 2
}
