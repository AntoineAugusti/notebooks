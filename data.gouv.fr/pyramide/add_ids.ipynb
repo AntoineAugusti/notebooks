{
 "cells": [
  {
   "cell_type": "markdown",
   "metadata": {},
   "source": [
    "## TODO\n",
    "\n",
    "- [ ] gérer l'historique de redirection\n",
    "- [ ] chargement de la base `datasets.csv` à jour"
   ]
  },
  {
   "cell_type": "code",
   "execution_count": null,
   "metadata": {},
   "outputs": [],
   "source": [
    "import pandas as pd"
   ]
  },
  {
   "cell_type": "code",
   "execution_count": null,
   "metadata": {},
   "outputs": [],
   "source": [
    "year = 2018"
   ]
  },
  {
   "cell_type": "code",
   "execution_count": null,
   "metadata": {},
   "outputs": [],
   "source": [
    "hits = pd.read_csv(\"out/datasets-hits-%s.csv\" % year)"
   ]
  },
  {
   "cell_type": "code",
   "execution_count": null,
   "metadata": {},
   "outputs": [],
   "source": [
    "datasets = pd.read_csv(\"/home/tk/notebooks/data.gouv.fr/pilotage/data/datasets.csv\", sep=\";\")"
   ]
  },
  {
   "cell_type": "code",
   "execution_count": null,
   "metadata": {},
   "outputs": [],
   "source": [
    "def match(x):\n",
    "    return str(x).replace(\"https://www.data.gouv.fr/fr/datasets/\",\"\").replace(\"http://www.data.gouv.fr/fr/datasets/\",\"\").replace(\"/\",\"\")\n",
    "\n",
    "# df2[\"url\"].apply(match)\n",
    "\n",
    "datasets_hits = pd.merge(hits, datasets, how=\"left\", left_on=hits[\"url\"].apply(match), right_on=\"slug\")"
   ]
  },
  {
   "cell_type": "code",
   "execution_count": null,
   "metadata": {},
   "outputs": [],
   "source": [
    "datasets_hits[[\"nb_hits\", \"_id\", \"slug\", \"title\", \"url\"]].to_csv(\"out/datasets-hits-id-%s.csv\" % year)"
   ]
  }
 ],
 "metadata": {
  "kernelspec": {
   "display_name": "Python 3",
   "language": "python",
   "name": "python3"
  },
  "language_info": {
   "codemirror_mode": {
    "name": "ipython",
    "version": 3
   },
   "file_extension": ".py",
   "mimetype": "text/x-python",
   "name": "python",
   "nbconvert_exporter": "python",
   "pygments_lexer": "ipython3",
   "version": "3.6.7"
  }
 },
 "nbformat": 4,
 "nbformat_minor": 2
}
