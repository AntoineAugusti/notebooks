{
 "cells": [
  {
   "cell_type": "markdown",
   "metadata": {},
   "source": [
    "## todo\n",
    "\n",
    "- [ ] meilleur filtre à l'entrée\n",
    "    - les tags de suivi facebook divise les entrées d'une même page\n",
    "    - exfiltrer les `login` et `next=`"
   ]
  },
  {
   "cell_type": "code",
   "execution_count": null,
   "metadata": {},
   "outputs": [],
   "source": [
    "year = 2018"
   ]
  },
  {
   "cell_type": "code",
   "execution_count": null,
   "metadata": {},
   "outputs": [],
   "source": [
    "import requests\n",
    "import pandas as pd"
   ]
  },
  {
   "cell_type": "code",
   "execution_count": null,
   "metadata": {},
   "outputs": [],
   "source": [
    "def get_datasets(site_id):\n",
    "\n",
    "    endpoint = 'https://stats.data.gouv.fr/'\n",
    "    \n",
    "    params = {\n",
    "        'idSite': site_id,\n",
    "        'module': 'API',\n",
    "        'method': 'Actions.getPageUrls',\n",
    "        'format': 'json',\n",
    "        'depth': 4,\n",
    "        'expanded': 1,\n",
    "        'flat': 1,\n",
    "        'period': 'range',\n",
    "        'date': '%s-01-01,%s-12-31' % (year,year),\n",
    "        'filter_pattern': '^/fr/datasets/[a-zA-Z-]+/',\n",
    "        'filter_limit': -1\n",
    "#        'filter_truncate': False\n",
    "    }\n",
    "        \n",
    "    r = requests.get(endpoint, params=params)\n",
    "    \n",
    "    print(r.url)\n",
    "    \n",
    "    df = pd.DataFrame(r.json())\n",
    "    \n",
    "    print(len(df))\n",
    "    \n",
    "    # <CLEAN> Remove total of `fr/datasets/`\n",
    "    df.sort_values(by=['nb_hits'], inplace=True, ascending=False)\n",
    "    df = df.iloc[1:]\n",
    "    \n",
    "    return df\n",
    "\n",
    "df = get_datasets(1)"
   ]
  },
  {
   "cell_type": "code",
   "execution_count": null,
   "metadata": {},
   "outputs": [],
   "source": [
    "def remove_trail(row):\n",
    "    \n",
    "    label = row[\"label\"]\n",
    "    clean = \"/\".join(label.split(\"/\")[:4])+\"/\"\n",
    "    \n",
    "    return clean.lower()\n",
    "\n",
    "df[\"label_clean\"] = df.apply(remove_trail, axis=1)\n",
    "                             \n",
    "len(df[ df[\"label\"] == df[\"label_clean\"] ])"
   ]
  },
  {
   "cell_type": "code",
   "execution_count": null,
   "metadata": {},
   "outputs": [],
   "source": [
    "df_clean = df[[\"nb_hits\",\"label_clean\"]].groupby(\"label_clean\").sum().reset_index()\n",
    "\n",
    "df_clean.shape"
   ]
  },
  {
   "cell_type": "code",
   "execution_count": null,
   "metadata": {},
   "outputs": [],
   "source": [
    "df_clean.head()"
   ]
  },
  {
   "cell_type": "code",
   "execution_count": null,
   "metadata": {},
   "outputs": [],
   "source": [
    "df_clean.to_csv(\"out/datasets-hits-%s.csv\" % year)"
   ]
  },
  {
   "cell_type": "code",
   "execution_count": null,
   "metadata": {},
   "outputs": [],
   "source": []
  }
 ],
 "metadata": {
  "kernelspec": {
   "display_name": "Python 3",
   "language": "python",
   "name": "python3"
  },
  "language_info": {
   "codemirror_mode": {
    "name": "ipython",
    "version": 3
   },
   "file_extension": ".py",
   "mimetype": "text/x-python",
   "name": "python",
   "nbconvert_exporter": "python",
   "pygments_lexer": "ipython3",
   "version": "3.6.7"
  }
 },
 "nbformat": 4,
 "nbformat_minor": 2
}
