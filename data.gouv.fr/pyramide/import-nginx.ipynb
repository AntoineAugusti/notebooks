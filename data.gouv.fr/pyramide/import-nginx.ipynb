{
 "cells": [
  {
   "cell_type": "code",
   "execution_count": null,
   "metadata": {},
   "outputs": [],
   "source": [
    "import gzip\n",
    "import os\n",
    "import sys\n",
    "import re\n",
    "\n",
    "from tqdm import tqdm\n",
    "from tqdm import tnrange, tqdm_notebook\n",
    "\n",
    "import dask\n",
    "import dask.dataframe as dd\n",
    "import pandas as pd\n",
    "\n",
    "import pytz\n",
    "from datetime import datetime"
   ]
  },
  {
   "cell_type": "code",
   "execution_count": null,
   "metadata": {},
   "outputs": [],
   "source": [
    "from dask import compute, delayed\n",
    "from dask.distributed import Client, LocalCluster"
   ]
  },
  {
   "cell_type": "code",
   "execution_count": null,
   "metadata": {},
   "outputs": [],
   "source": [
    "client = Client()\n",
    "\n",
    "client"
   ]
  },
  {
   "cell_type": "code",
   "execution_count": null,
   "metadata": {},
   "outputs": [],
   "source": [
    "client.close()"
   ]
  },
  {
   "cell_type": "code",
   "execution_count": null,
   "metadata": {},
   "outputs": [],
   "source": [
    "INPUT_DIRS = [\n",
    "    \"in/dataweb-01/logs\",\n",
    "    \"in/dataweb-01/nginx\",\n",
    "    \"in/dataweb-03/logs\",\n",
    "    \"in/dataweb-03/nginx\"\n",
    "]\n",
    "\n",
    "INPUT_DIRS = [\n",
    "    \"in/dataweb-01/logs/moved-2018-07-20\",\n",
    "]"
   ]
  },
  {
   "cell_type": "code",
   "execution_count": null,
   "metadata": {},
   "outputs": [],
   "source": [
    "def parse_file(folder, file):\n",
    "    \n",
    "    lineformat = re.compile(r\"\"\"(?P<ipaddress>\\d{1,3}\\.\\d{1,3}\\.\\d{1,3}\\.\\d{1,3}) - - \\[(?P<dateandtime>\\d{2}\\/[a-z]{3}\\/\\d{4}:\\d{2}:\\d{2}:\\d{2} (\\+|\\-)\\d{4})\\] ((\\\"(GET|POST) )(?P<url>.+)(http\\/1\\.1\")) (?P<statuscode>\\d{3}) (?P<bytessent>\\d+) (?P<refferer>-|\"([^\"]+)\") ([\"](?P<useragent>[^\"]+)[\"])\"\"\", re.IGNORECASE)\n",
    "    \n",
    "    if file.endswith(\".gz\"):\n",
    "        logfile = gzip.open(os.path.join(folder, file))\n",
    "    else:\n",
    "        logfile = open(os.path.join(folder, file))\n",
    "\n",
    "    logs = []\n",
    "        \n",
    "    for l in logfile.readlines():\n",
    "        log = str(l)\n",
    "        \n",
    "        data = re.search(lineformat, log)\n",
    "\n",
    "        if data:\n",
    "            d = data.groupdict()\n",
    "            \n",
    "            d[\"dateandtime\"] = pd.to_datetime(d[\"dateandtime\"], format='%d/%b/%Y:%H:%M:%S %z')\n",
    "            \n",
    "            logs.append(d)\n",
    "\n",
    "    if(len(logs) > 0):\n",
    "        df = pd.DataFrame(logs)\n",
    "        df.to_csv(\"{}/{}.csv\".format(folder,file))\n",
    "        \n",
    "        return df\n",
    "    #return (len(logs), file)"
   ]
  },
  {
   "cell_type": "code",
   "execution_count": null,
   "metadata": {},
   "outputs": [],
   "source": [
    "values = [ delayed(parse_file)(folder, file) for folder in INPUT_DIRS for file in os.listdir(folder) ]"
   ]
  },
  {
   "cell_type": "code",
   "execution_count": null,
   "metadata": {},
   "outputs": [],
   "source": [
    "dask.compute(*values)"
   ]
  },
  {
   "cell_type": "code",
   "execution_count": null,
   "metadata": {},
   "outputs": [],
   "source": [
    "df = dd.read_csv('out/access/*/*.csv')"
   ]
  },
  {
   "cell_type": "code",
   "execution_count": null,
   "metadata": {},
   "outputs": [],
   "source": [
    "len(df)"
   ]
  },
  {
   "cell_type": "code",
   "execution_count": null,
   "metadata": {},
   "outputs": [],
   "source": [
    "len(df.columns)"
   ]
  },
  {
   "cell_type": "code",
   "execution_count": null,
   "metadata": {},
   "outputs": [],
   "source": [
    "df.columns"
   ]
  },
  {
   "cell_type": "code",
   "execution_count": null,
   "metadata": {},
   "outputs": [],
   "source": [
    "df.head()"
   ]
  },
  {
   "cell_type": "code",
   "execution_count": null,
   "metadata": {},
   "outputs": [],
   "source": [
    "test = \"21/Jan/2019:18:18:43 +0100\""
   ]
  },
  {
   "cell_type": "code",
   "execution_count": null,
   "metadata": {},
   "outputs": [],
   "source": [
    "def parse_datetime(t):\n",
    "    dt = datetime.strptime(t[1:-7], '%d/%b/%Y:%H:%M:%S')\n",
    "    dt_tz = int(t[-6:-3])*60+int(t[-3:-1])\n",
    "    \n",
    "    return dt.replace(tzinfo=pytz.FixedOffset(dt_tz))\n",
    "\n",
    "parse_datetime(test)"
   ]
  },
  {
   "cell_type": "code",
   "execution_count": null,
   "metadata": {},
   "outputs": [],
   "source": [
    "pd.to_datetime(test, format='%d/%b/%Y:%H:%M:%S %z')"
   ]
  },
  {
   "cell_type": "code",
   "execution_count": null,
   "metadata": {},
   "outputs": [],
   "source": [
    "meta = ('time', 'datetime64[ns]')\n",
    "\n",
    "def parse_dateandtime(df):\n",
    "    return pd.to_datetime(df[\"dateandtime\"], format='%d/%b/%Y:%H:%M:%S %z')\n",
    "\n",
    "df.map_partitions(parse_dateandtime, meta=meta).compute()"
   ]
  },
  {
   "cell_type": "code",
   "execution_count": null,
   "metadata": {},
   "outputs": [],
   "source": [
    "df.head()"
   ]
  },
  {
   "cell_type": "code",
   "execution_count": null,
   "metadata": {},
   "outputs": [],
   "source": [
    "df._meta.dtypes"
   ]
  },
  {
   "cell_type": "code",
   "execution_count": null,
   "metadata": {},
   "outputs": [],
   "source": [
    "df.known_divisions"
   ]
  },
  {
   "cell_type": "code",
   "execution_count": null,
   "metadata": {},
   "outputs": [],
   "source": [
    "client.close()"
   ]
  },
  {
   "cell_type": "code",
   "execution_count": null,
   "metadata": {},
   "outputs": [],
   "source": []
  }
 ],
 "metadata": {
  "kernelspec": {
   "display_name": "Python 3",
   "language": "python",
   "name": "python3"
  },
  "language_info": {
   "codemirror_mode": {
    "name": "ipython",
    "version": 3
   },
   "file_extension": ".py",
   "mimetype": "text/x-python",
   "name": "python",
   "nbconvert_exporter": "python",
   "pygments_lexer": "ipython3",
   "version": "3.6.7"
  }
 },
 "nbformat": 4,
 "nbformat_minor": 2
}
