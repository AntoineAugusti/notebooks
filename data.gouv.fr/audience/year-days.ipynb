{
 "cells": [
  {
   "cell_type": "code",
   "execution_count": null,
   "metadata": {
    "tags": [
     "parameters"
    ]
   },
   "outputs": [],
   "source": [
    "year = 2018"
   ]
  },
  {
   "cell_type": "code",
   "execution_count": null,
   "metadata": {},
   "outputs": [],
   "source": [
    "import requests\n",
    "import pandas as pd"
   ]
  },
  {
   "cell_type": "code",
   "execution_count": null,
   "metadata": {},
   "outputs": [],
   "source": [
    "def get_months(site_id, year):\n",
    "\n",
    "    endpoint = 'https://stats.data.gouv.fr/'\n",
    "    \n",
    "    params = {\n",
    "        'idSite': site_id,\n",
    "        'module': 'API',\n",
    "        'method': 'API.get',\n",
    "        'format': 'json',\n",
    "        'period': 'day',\n",
    "        'date': '{0}-01-01,{0}-12-31'.format(year),\n",
    "    }\n",
    "        \n",
    "    r = requests.get(endpoint, params=params)\n",
    "    \n",
    "    df = pd.DataFrame(r.json()).transpose()\n",
    "\n",
    "    return df\n",
    "\n",
    "df = get_months(1, year)\n",
    "\n",
    "df"
   ]
  },
  {
   "cell_type": "code",
   "execution_count": null,
   "metadata": {},
   "outputs": [],
   "source": [
    "df.to_csv(\"out/{}-days.csv\".format(year))"
   ]
  },
  {
   "cell_type": "code",
   "execution_count": null,
   "metadata": {},
   "outputs": [],
   "source": []
  }
 ],
 "metadata": {
  "kernelspec": {
   "display_name": "Python 3",
   "language": "python",
   "name": "python3"
  },
  "language_info": {
   "codemirror_mode": {
    "name": "ipython",
    "version": 3
   },
   "file_extension": ".py",
   "mimetype": "text/x-python",
   "name": "python",
   "nbconvert_exporter": "python",
   "pygments_lexer": "ipython3",
   "version": "3.6.7"
  }
 },
 "nbformat": 4,
 "nbformat_minor": 2
}
