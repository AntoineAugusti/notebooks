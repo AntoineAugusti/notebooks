{
 "cells": [
  {
   "cell_type": "code",
   "execution_count": null,
   "metadata": {},
   "outputs": [],
   "source": [
    "year = 2018"
   ]
  },
  {
   "cell_type": "code",
   "execution_count": null,
   "metadata": {},
   "outputs": [],
   "source": [
    "import requests\n",
    "\n",
    "import pandas as pd\n",
    "\n",
    "import holoviews as hv\n",
    "from holoviews import opts, dim\n",
    "\n",
    "hv.extension('bokeh')"
   ]
  },
  {
   "cell_type": "code",
   "execution_count": null,
   "metadata": {},
   "outputs": [],
   "source": [
    "def get_visits_objects(site_id, year):\n",
    "\n",
    "    endpoint = 'https://stats.data.gouv.fr/'\n",
    "    \n",
    "    params = {\n",
    "        'idSite': site_id,\n",
    "        'module': 'API',\n",
    "        'method': 'Actions.getPageUrls',\n",
    "        'format': 'json',\n",
    "        'period': 'range',\n",
    "        'date': '{0}-01-01,{0}-12-31'.format(year),\n",
    "        'expanded': 1,\n",
    "        'depth': 2,\n",
    "        #'filter_pattern': '\\/fr\\/.*',\n",
    "        'filter_limit': -1\n",
    "    }\n",
    "\n",
    "    r = requests.get(endpoint, params=params)\n",
    "    print(r.url)\n",
    "    # df = pd.DataFrame(r.json()).transpose()\n",
    "\n",
    "    return r.json()\n",
    "\n",
    "data = get_visits_objects(1, year)\n",
    "\n",
    "len(data)"
   ]
  },
  {
   "cell_type": "code",
   "execution_count": null,
   "metadata": {},
   "outputs": [],
   "source": [
    "fr = [ t for t in data if t[\"label\"]  == \"fr\" ][0]"
   ]
  },
  {
   "cell_type": "code",
   "execution_count": null,
   "metadata": {},
   "outputs": [],
   "source": [
    "select = [\n",
    "    \"datasets\",\n",
    "    \"reuses\",\n",
    "    \"topics\",\n",
    "    \"organizations\",\n",
    "    \"territories\",\n",
    "    \"posts\",\n",
    "    \"dashboard\",\n",
    "    \"users\"\n",
    "]\n",
    "\n",
    "sub = [ st for st in fr[\"subtable\"] if st[\"label\"] in select ]\n",
    "\n",
    "len(fr)\n",
    "len(sub)"
   ]
  },
  {
   "cell_type": "code",
   "execution_count": null,
   "metadata": {},
   "outputs": [],
   "source": [
    "sankey = hv.Sankey([ [ fr[\"label\"], i[\"label\"], i[\"nb_visits\"]] for i in sub ])\n",
    "\n",
    "sankey.opts(width=800, height=400, padding=0.05)"
   ]
  }
 ],
 "metadata": {
  "kernelspec": {
   "display_name": "Python 3",
   "language": "python",
   "name": "python3"
  },
  "language_info": {
   "codemirror_mode": {
    "name": "ipython",
    "version": 3
   },
   "file_extension": ".py",
   "mimetype": "text/x-python",
   "name": "python",
   "nbconvert_exporter": "python",
   "pygments_lexer": "ipython3",
   "version": "3.6.7"
  }
 },
 "nbformat": 4,
 "nbformat_minor": 2
}
