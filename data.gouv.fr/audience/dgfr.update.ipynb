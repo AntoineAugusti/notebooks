{
 "cells": [
  {
   "cell_type": "markdown",
   "metadata": {},
   "source": [
    "https://www.data.gouv.fr/fr/apidoc/#!/datasets/upload_dataset_resource"
   ]
  },
  {
   "cell_type": "code",
   "execution_count": null,
   "metadata": {},
   "outputs": [],
   "source": [
    "import requests\n",
    "import os\n",
    "\n",
    "from airflow.models import Variable"
   ]
  },
  {
   "cell_type": "code",
   "execution_count": null,
   "metadata": {
    "tags": [
     "parameters"
    ]
   },
   "outputs": [],
   "source": [
    "year = 2018"
   ]
  },
  {
   "cell_type": "code",
   "execution_count": null,
   "metadata": {},
   "outputs": [],
   "source": [
    "api = 'https://www.data.gouv.fr/api/1'\n",
    "api_key = Variable.get(\"data.gouv.fr api key\")\n",
    "org = \"534fff75a3a7292c64a77de4\"\n",
    "dataset = \"5a22644f88ee3848529af925\""
   ]
  },
  {
   "cell_type": "code",
   "execution_count": null,
   "metadata": {},
   "outputs": [],
   "source": [
    "def get_dataset(dataset):\n",
    "    url = \"{}/datasets/{}\".format(api,dataset)\n",
    "    \n",
    "    r = requests.get(url)\n",
    "    \n",
    "    print(url)\n",
    "    \n",
    "    return r.json()\n",
    "    \n",
    "fiche = get_dataset(dataset)"
   ]
  },
  {
   "cell_type": "code",
   "execution_count": null,
   "metadata": {},
   "outputs": [],
   "source": [
    "fiche['resources']"
   ]
  },
  {
   "cell_type": "code",
   "execution_count": null,
   "metadata": {},
   "outputs": [],
   "source": [
    "def upload(dataset, filename):\n",
    "    url = \"{}/datasets/{}/upload/\".format(api,dataset)\n",
    "    print(url)\n",
    "    \n",
    "    headers = {\n",
    "        'X-API-KEY': api_key,\n",
    "    }\n",
    "    \n",
    "    files = {\n",
    "        \"file\": open(filename, \"rb\")\n",
    "    }\n",
    "    \n",
    "    parameters = {\n",
    "        \"title\": \"audience par jour pour l'année {}\".format(year)\n",
    "    }\n",
    "    \n",
    "    r = requests.post(url, params=parameters, files=files, headers=headers)\n",
    "    print(r.content)\n",
    "    \n",
    "    return r\n",
    "\n",
    "resource = upload(dataset, \"/tmp/out/{}-days.csv\".format(year))"
   ]
  },
  {
   "cell_type": "code",
   "execution_count": null,
   "metadata": {},
   "outputs": [],
   "source": [
    "rid = resource.json()[\"id\"]\n",
    "\n",
    "def set_title(dataset,rid):\n",
    "    url = \"{}/datasets/{}/resources/{}/\".format(api,dataset,rid)\n",
    "    \n",
    "    headers = {\n",
    "        'X-API-KEY': api_key,\n",
    "    }\n",
    "    \n",
    "    parameters = {\n",
    "        \"title\": \"statistiques de consultation pour l'année {}\".format(year)\n",
    "    }\n",
    "    \n",
    "    r = requests.put(url, json=parameters, headers=headers)\n",
    "    print(r.content)\n",
    "    return r\n",
    "\n",
    "set_title(dataset, rid)"
   ]
  },
  {
   "cell_type": "code",
   "execution_count": null,
   "metadata": {},
   "outputs": [],
   "source": []
  }
 ],
 "metadata": {
  "kernelspec": {
   "display_name": "Python 3",
   "language": "python",
   "name": "python3"
  },
  "language_info": {
   "codemirror_mode": {
    "name": "ipython",
    "version": 3
   },
   "file_extension": ".py",
   "mimetype": "text/x-python",
   "name": "python",
   "nbconvert_exporter": "python",
   "pygments_lexer": "ipython3",
   "version": "3.6.7"
  }
 },
 "nbformat": 4,
 "nbformat_minor": 2
}
