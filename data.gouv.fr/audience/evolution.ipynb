{
 "cells": [
  {
   "cell_type": "code",
   "execution_count": null,
   "metadata": {},
   "outputs": [],
   "source": [
    "year_start = 2014\n",
    "year_end = 2018"
   ]
  },
  {
   "cell_type": "code",
   "execution_count": null,
   "metadata": {},
   "outputs": [],
   "source": [
    "import requests\n",
    "\n",
    "import pandas as pd\n",
    "\n",
    "import holoviews as hv\n",
    "from holoviews import opts, dim\n",
    "\n",
    "hv.extension('bokeh','matplotlib')"
   ]
  },
  {
   "cell_type": "code",
   "execution_count": null,
   "metadata": {},
   "outputs": [],
   "source": [
    "def get_visits_objects_years(site_id, year_start, year_end):\n",
    "\n",
    "    endpoint = 'https://stats.data.gouv.fr/'\n",
    "    \n",
    "    params = {\n",
    "        'idSite': site_id,\n",
    "        'module': 'API',\n",
    "        'method': 'Actions.getPageUrls',\n",
    "        'format': 'json',\n",
    "        'period': 'year',\n",
    "        'date': '{0}-01-01,{1}-12-31'.format(year_start, year_end),\n",
    "        'expanded': 1,\n",
    "        'depth': 2,\n",
    "        #'filter_pattern': '\\/fr\\/.*',\n",
    "        'filter_limit': -1\n",
    "    }\n",
    "\n",
    "    r = requests.get(endpoint, params=params)\n",
    "    print(r.url)\n",
    "    # df = pd.DataFrame(r.json()).transpose()\n",
    "\n",
    "    return r.json()\n",
    "\n",
    "data = get_visits_objects_years(1, year_start, year_end)\n",
    "\n",
    "len(data)"
   ]
  },
  {
   "cell_type": "code",
   "execution_count": null,
   "metadata": {},
   "outputs": [],
   "source": [
    "select = [\n",
    "    \"datasets\",\n",
    "    \"reuses\",\n",
    "    \"topics\",\n",
    "    \"organizations\",\n",
    "    \"territories\",\n",
    "    \"posts\",\n",
    "    \"dashboard\",\n",
    "    \"users\"\n",
    "]"
   ]
  },
  {
   "cell_type": "code",
   "execution_count": null,
   "metadata": {},
   "outputs": [],
   "source": [
    "df = pd.DataFrame([ {\"year\" : y, \"object\": st[\"label\"], \"visits\": st[\"nb_visits\"] } for y in data for t in data[y] if t[\"label\"] == \"fr\" for st in t[\"subtable\"] if st[\"label\"] in select ])"
   ]
  },
  {
   "cell_type": "code",
   "execution_count": null,
   "metadata": {},
   "outputs": [],
   "source": [
    "bars = hv.Table(df, [\"year\", \"object\"], [\"visits\"]).to.bars([\"year\", \"object\"], 'visits', [])\n",
    "\n",
    "bars.opts(width=800, height=400, stacked=True, tools=['hover'], legend_position=\"top\")"
   ]
  },
  {
   "cell_type": "code",
   "execution_count": null,
   "metadata": {},
   "outputs": [],
   "source": [
    "pd.options.display.float_format = '{}'.format\n",
    "df.set_index(\"year\").pivot(columns=\"object\")"
   ]
  },
  {
   "cell_type": "code",
   "execution_count": null,
   "metadata": {},
   "outputs": [],
   "source": [
    "pd.options.display.float_format = '{:.2%}'.format\n",
    "df.set_index(\"year\").pivot(columns=\"object\").pct_change()"
   ]
  },
  {
   "cell_type": "code",
   "execution_count": null,
   "metadata": {},
   "outputs": [],
   "source": []
  }
 ],
 "metadata": {
  "kernelspec": {
   "display_name": "Python 3",
   "language": "python",
   "name": "python3"
  },
  "language_info": {
   "codemirror_mode": {
    "name": "ipython",
    "version": 3
   },
   "file_extension": ".py",
   "mimetype": "text/x-python",
   "name": "python",
   "nbconvert_exporter": "python",
   "pygments_lexer": "ipython3",
   "version": "3.6.7"
  }
 },
 "nbformat": 4,
 "nbformat_minor": 2
}
